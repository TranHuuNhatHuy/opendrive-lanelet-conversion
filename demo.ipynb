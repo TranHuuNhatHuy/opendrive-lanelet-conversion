{
 "cells": [
  {
   "cell_type": "markdown",
   "metadata": {},
   "source": [
    "# OpenDRIVE - Lanelet2 conversion"
   ]
  },
  {
   "cell_type": "markdown",
   "metadata": {},
   "source": [
    "### 1. Imports"
   ]
  },
  {
   "cell_type": "code",
   "execution_count": 3,
   "metadata": {},
   "outputs": [],
   "source": [
    "import os\n",
    "import shutil\n",
    "from pathlib import Path\n",
    "from lxml import etree\n",
    "\n",
    "# import sys\n",
    "# sys.path.append(os.path.abspath(os.path.join(\n",
    "#     os.path.dirname(__file__), \n",
    "#     '..',\n",
    "# )))\n",
    "\n",
    "from utils.conversion import prepConversionCRS, conductConversion\n",
    "from utils.geometry import PointCoords, coords2XY, dist_2nodes, calAngleTriplePoints\n",
    "from utils.postprocess import simplifyWayNodes, postprocessDownsamplingOSM"
   ]
  },
  {
   "cell_type": "markdown",
   "metadata": {},
   "source": [
    "### 2. Declarations"
   ]
  },
  {
   "cell_type": "code",
   "execution_count": 4,
   "metadata": {},
   "outputs": [],
   "source": [
    "# Input handling\n",
    "input_dir = Path(\"./sample_data\")\n",
    "set_list = [\n",
    "    \"naive\",\n",
    "    \"CARLA\",\n",
    "    \"esmini\"\n",
    "]\n",
    "\n",
    "# Output handling\n",
    "output_dir = Path(\"./output/20250414\")\n",
    "os.makedirs(output_dir)\n",
    "\n",
    "# Prep CRS conversion instance\n",
    "scenario_location = prepConversionCRS()\n",
    "\n",
    "# Downsampling params (will add to config later)\n",
    "STRAIGHT_ANGLE_THRSH = 179.9            # Extremely strict angle threshold (trust me, 179 wasn't enough)\n",
    "MIN_SEGMENT_DIST = 3.0                  # Minimum segment length accepted"
   ]
  },
  {
   "cell_type": "markdown",
   "metadata": {},
   "source": [
    "### 3. Attempt conversion"
   ]
  },
  {
   "cell_type": "code",
   "execution_count": null,
   "metadata": {},
   "outputs": [],
   "source": [
    "for set_name in set_list:\n",
    "\n",
    "    print(f\"\\n=============== Working on {set_name} ===============\\n\")\n",
    "\n",
    "    this_set_input_path = input_dir / set_name\n",
    "    this_set_output_path = output_dir / set_name\n",
    "    if not (os.path.exists(this_set_output_path)):\n",
    "        os.makedirs(this_set_output_path)\n",
    "\n",
    "    for input_file in os.listdir(this_set_input_path):\n",
    "\n",
    "        # Input handling\n",
    "        input_file_path = this_set_input_path / input_file\n",
    "        print(f\"\\nConverting {input_file_path}\")\n",
    "\n",
    "        # Output handling\n",
    "        input_file_tail_trimmed = \".\".join(input_file.split(\".\")[ : -1])\n",
    "        output_filename = f\"converted_{input_file_tail_trimmed}.osm\"\n",
    "        output_path = this_set_output_path / output_filename\n",
    "        \n",
    "        # Conversion\n",
    "        converted_osm = conductConversion(\n",
    "            input_file = input_file_path, \n",
    "            scenario_location = scenario_location\n",
    "        )\n",
    "\n",
    "        # Conversion succeed!\n",
    "        if (converted_osm):\n",
    "\n",
    "            # Here comes my postprocessing\n",
    "            downsamp_osm = postprocessDownsamplingOSM(\n",
    "                converted_osm, \n",
    "                STRAIGHT_ANGLE_THRSH,\n",
    "                MIN_SEGMENT_DIST\n",
    "            )\n",
    "\n",
    "            with open(output_path, \"wb\") as file_out:\n",
    "                file_out.write(etree.tostring(\n",
    "                    downsamp_osm, \n",
    "                    xml_declaration = True, \n",
    "                    encoding = \"UTF-8\", \n",
    "                    pretty_print = True\n",
    "                ))\n",
    "        \n",
    "            print(\"Quest complete\")"
   ]
  }
 ],
 "metadata": {
  "kernelspec": {
   "display_name": "llconv",
   "language": "python",
   "name": "python3"
  },
  "language_info": {
   "codemirror_mode": {
    "name": "ipython",
    "version": 3
   },
   "file_extension": ".py",
   "mimetype": "text/x-python",
   "name": "python",
   "nbconvert_exporter": "python",
   "pygments_lexer": "ipython3",
   "version": "3.9.21"
  }
 },
 "nbformat": 4,
 "nbformat_minor": 2
}
