{
 "cells": [
  {
   "cell_type": "markdown",
   "metadata": {},
   "source": [
    "# OpenDRIVE - Lanelet2 conversion"
   ]
  },
  {
   "cell_type": "markdown",
   "metadata": {},
   "source": [
    "### 1. Imports"
   ]
  },
  {
   "cell_type": "code",
   "execution_count": 145,
   "metadata": {},
   "outputs": [],
   "source": [
    "import os\n",
    "import shutil\n",
    "from pathlib import Path\n",
    "from lxml import etree\n",
    "from pyproj import CRS, Transformer\n",
    "import math\n",
    "import itertools"
   ]
  },
  {
   "cell_type": "code",
   "execution_count": 146,
   "metadata": {},
   "outputs": [],
   "source": [
    "from crdesigner.common.config.lanelet2_config import lanelet2_config\n",
    "from crdesigner.map_conversion.lanelet2.cr2lanelet import CR2LaneletConverter\n",
    "from commonroad.scenario.scenario import Location, GeoTransformation\n",
    "from crdesigner.map_conversion.map_conversion_interface import opendrive_to_commonroad"
   ]
  },
  {
   "cell_type": "markdown",
   "metadata": {},
   "source": [
    "### 2. Declarations"
   ]
  },
  {
   "cell_type": "code",
   "execution_count": 147,
   "metadata": {},
   "outputs": [],
   "source": [
    "# Input handling\n",
    "input_dir = Path(\"./sample_data\")\n",
    "set_list = [\n",
    "    \"naive\",\n",
    "    \"CARLA\",\n",
    "    \"esmini\",\n",
    "    \"SafetyPool_Emil\"\n",
    "]\n",
    "\n",
    "# Output handling\n",
    "output_dir = Path(\"./output/20250601\")\n",
    "if not (os.path.exists(output_dir)):\n",
    "    os.makedirs(output_dir)\n",
    "\n",
    "# Downsampling params (will add to config later)\n",
    "STRAIGHT_ANGLE_THRSH = 179.9            # Extremely strict angle threshold (trust me, 179 wasn't enough)\n",
    "MIN_SEGMENT_DIST = 3.0                  # Minimum segment length accepted\n",
    "\n",
    "PROJ_DEG = \"EPSG:4326\"                  # WGS84 (Degrees)\n",
    "PROJ_MET = \"EPSG:3857\"                  # WGS64 (Meter)\n",
    "\n",
    "PointCoords = tuple[float, float]\n",
    "R = 6378000                             # Earth radius, in meters"
   ]
  },
  {
   "cell_type": "markdown",
   "metadata": {},
   "source": [
    "### 3. Helper functions"
   ]
  },
  {
   "cell_type": "markdown",
   "metadata": {},
   "source": [
    "#### a. Conversion"
   ]
  },
  {
   "cell_type": "code",
   "execution_count": 148,
   "metadata": {},
   "outputs": [],
   "source": [
    "# def extractGeorefString(xodr_path: str) -> tuple[str, bool]:\n",
    "    \n",
    "#     try:\n",
    "#         with open(xodr_path, \"rb\") as f:\n",
    "#             tree = etree.parse(f)\n",
    "#             geo_elem = tree.find(\".//geoReference\")\n",
    "\n",
    "#             if ((geo_elem is not None) and (geo_elem.text)):\n",
    "#                 raw_proj_str = geo_elem.text.strip()\n",
    "#                 print(f\"Proj found in input: {raw_proj_str}\")\n",
    "\n",
    "#                 # Validate\n",
    "#                 try:\n",
    "#                     _ = CRS.from_proj4(raw_proj_str)\n",
    "#                     return raw_proj_str, True\n",
    "#                 except Exception as e:\n",
    "#                     print(f\"Invalid CRS string: {e}\")\n",
    "\n",
    "#     except Exception as e:\n",
    "#         print(f\"Error parsing geoReference from {xodr_path}: {e}\")\n",
    "\n",
    "#     print(f\"Invalid proj, using default {PROJ_MET}\")\n",
    "#     return PROJ_MET, False"
   ]
  },
  {
   "cell_type": "code",
   "execution_count": 149,
   "metadata": {},
   "outputs": [],
   "source": [
    "def prepConversionCRS(\n",
    "    georeference_string: str = PROJ_MET,\n",
    "    x_translation: float = 0.0,\n",
    "    y_translation: float = 0.0,\n",
    "    z_rotation: float = None,\n",
    "    scaling: float = None,\n",
    "    geo_name_id: int = 11,\n",
    "    gps_latitude: float = 0.0,\n",
    "    gps_longitude: float = 0.0,\n",
    "    environment: str = None\n",
    "):\n",
    "\n",
    "    # Init scenario handling\n",
    "    location_geotransformation = GeoTransformation(\n",
    "        georeference_string,\n",
    "        x_translation = x_translation,\n",
    "        y_translation = y_translation,\n",
    "        z_rotation = z_rotation,\n",
    "        scaling = scaling\n",
    "    )\n",
    "    scenario_location = Location(\n",
    "        geo_name_id = geo_name_id,\n",
    "        gps_latitude = gps_latitude,\n",
    "        gps_longitude = gps_longitude,\n",
    "        geo_transformation = location_geotransformation,\n",
    "        environment = environment\n",
    "    )\n",
    "\n",
    "    return scenario_location"
   ]
  },
  {
   "cell_type": "code",
   "execution_count": 150,
   "metadata": {},
   "outputs": [],
   "source": [
    "def conductConversion(\n",
    "    input_file: str,\n",
    "    scenario_location: Location,\n",
    "):\n",
    "    \n",
    "    try:\n",
    "\n",
    "        # Scenario initialization\n",
    "        scenario = opendrive_to_commonroad(input_file)\n",
    "        scenario.location = scenario_location\n",
    "\n",
    "        # Attempt conversion\n",
    "        if (scenario):\n",
    "            l2osm = CR2LaneletConverter(lanelet2_config)\n",
    "            osm = l2osm(scenario)\n",
    "            return osm\n",
    "\n",
    "    except Exception as e:\n",
    "        print(f\"Error during conversion: {e}\")\n",
    "        \n",
    "    return None"
   ]
  },
  {
   "cell_type": "markdown",
   "metadata": {},
   "source": [
    "#### b. Geometry"
   ]
  },
  {
   "cell_type": "code",
   "execution_count": 151,
   "metadata": {},
   "outputs": [],
   "source": [
    "def coords2XY(\n",
    "    p: PointCoords,\n",
    "    # transformer\n",
    "):\n",
    "\n",
    "    lat, lon = p[0], p[1]\n",
    "\n",
    "    x = math.radians(lon) * R * math.cos(math.radians(lat))\n",
    "    y = math.radians(lat) * R\n",
    "\n",
    "    # x, y = transformer.transform(lon, lat)\n",
    "\n",
    "    return x, y"
   ]
  },
  {
   "cell_type": "code",
   "execution_count": 152,
   "metadata": {},
   "outputs": [],
   "source": [
    "def dist_2nodes(\n",
    "    p1: PointCoords,\n",
    "    p2: PointCoords\n",
    "):\n",
    "\n",
    "    lat1, lon1 = p1[0], p1[1]\n",
    "    lat2, lon2 = p2[0], p2[1]\n",
    "\n",
    "    dlat = math.radians(lat2 - lat1)\n",
    "    dlon = math.radians(lon2 - lon1)\n",
    "\n",
    "    angle = math.sin(dlat / 2) ** 2 + \\\n",
    "            math.cos(math.radians(lat1)) * math.cos(math.radians(lat2)) * math.sin(dlon / 2) ** 2\n",
    "\n",
    "    dist = 2 * R * math.asin(math.sqrt(angle))\n",
    "\n",
    "    return dist"
   ]
  },
  {
   "cell_type": "code",
   "execution_count": 153,
   "metadata": {},
   "outputs": [],
   "source": [
    "def calAngleTriplePoints(\n",
    "    p1: PointCoords,\n",
    "    p2: PointCoords,\n",
    "    p3: PointCoords,\n",
    "    # transformer\n",
    "):\n",
    "\n",
    "    a = coords2XY(p1)\n",
    "    b = coords2XY(p2)\n",
    "    c = coords2XY(p3)\n",
    "\n",
    "    v1 = (\n",
    "        a[0] - b[0],\n",
    "        a[1] - b[1]\n",
    "    )\n",
    "    v2 = (\n",
    "        c[0] - b[0],\n",
    "        c[1] - b[1]\n",
    "    )\n",
    "\n",
    "    norm_v1 = math.hypot(*v1)\n",
    "    norm_v2 = math.hypot(*v2)\n",
    "\n",
    "    if (norm_v1 == 0) or (norm_v2 == 0):\n",
    "        return 180\n",
    "\n",
    "    dot_prod = v1[0] * v2[0] + v1[1] * v2[1]\n",
    "\n",
    "    angle = math.degrees(\n",
    "        math.acos(\n",
    "            max(\n",
    "                min(\n",
    "                    dot_prod / (norm_v1 * norm_v2), \n",
    "                    1.0\n",
    "                ), \n",
    "                -1.0\n",
    "            )\n",
    "        )\n",
    "    )\n",
    "\n",
    "    return angle"
   ]
  },
  {
   "cell_type": "markdown",
   "metadata": {},
   "source": [
    "#### c. Postprocess"
   ]
  },
  {
   "cell_type": "code",
   "execution_count": 154,
   "metadata": {},
   "outputs": [],
   "source": [
    "def simplifyWayNodes(\n",
    "    points: list[PointCoords],\n",
    "    straight_angle_threshold: float = 175.0,\n",
    "    min_segment_dist: float = 3.0,\n",
    "    # transformer = None\n",
    "):\n",
    "\n",
    "    # No point in simplifying 2 nodes\n",
    "    if (len(points) <= 2):\n",
    "        return points\n",
    "\n",
    "    # Keep first node\n",
    "    simplified_points = [points[0]]\n",
    "    # Last kept node\n",
    "    last_kept = points[0]\n",
    "\n",
    "    # Check angle, second first to second last nodes\n",
    "    for i in range(1, len(points) - 1):\n",
    "\n",
    "        this_angle = calAngleTriplePoints(\n",
    "            points[i - 1],\n",
    "            points[i],\n",
    "            points[i + 1],\n",
    "            # transformer\n",
    "        )\n",
    "        this_dist = dist_2nodes(last_kept, points[i])\n",
    "\n",
    "        if (\n",
    "            (this_angle < straight_angle_threshold) and\n",
    "            (this_dist >= min_segment_dist)\n",
    "        ):\n",
    "            simplified_points.append(points[i])\n",
    "            last_kept = points[i]\n",
    "\n",
    "\n",
    "    # Keep last node\n",
    "    simplified_points.append(points[-1])\n",
    "\n",
    "    # Fall back on sanity check\n",
    "    if (len(simplified_points) < 2) and (len(points) >= 2):\n",
    "        return [points[0], points[-1]]\n",
    "\n",
    "    return simplified_points"
   ]
  },
  {
   "cell_type": "code",
   "execution_count": 155,
   "metadata": {},
   "outputs": [],
   "source": [
    "def postprocessDownsamplingOSM(\n",
    "    osm_root: etree.Element,\n",
    "    straight_angle_threshold: float,\n",
    "    min_segment_dist: float,\n",
    "):\n",
    "\n",
    "    transformer = Transformer.from_crs(\n",
    "        PROJ_DEG,\n",
    "        PROJ_MET,\n",
    "        always_xy = True\n",
    "    )\n",
    "\n",
    "    # Map node ID to (lat, lon)\n",
    "    nodes = {\n",
    "        node.get(\"id\"): (\n",
    "            float(node.get(\"lat\")), \n",
    "            float(node.get(\"lon\")),\n",
    "            float(next(\n",
    "                (\n",
    "                    tag.get(\"v\") \n",
    "                    for tag in node.findall(\"tag\") \n",
    "                    if tag.get(\"k\") == \"ele\"\n",
    "                ), \n",
    "                0\n",
    "            ))\n",
    "        ) \n",
    "        for node in osm_root.findall(\"node\")\n",
    "    }\n",
    "\n",
    "    ways = osm_root.findall(\"way\")\n",
    "    new_node_id_gen = itertools.count(1_000_000)\n",
    "    used_node_ids = set()\n",
    "    new_nodes = []\n",
    "\n",
    "    for way in ways:\n",
    "\n",
    "        nd_refs = [\n",
    "            nd.get(\"ref\") \n",
    "            for nd in way.findall(\"nd\")\n",
    "        ]\n",
    "        coords = [\n",
    "            nodes[ref][:2]\n",
    "            for ref in nd_refs \n",
    "            if ref in nodes\n",
    "        ]\n",
    "\n",
    "        if (len(coords) < 2):\n",
    "            print(f\"Skipping way {way.get('id')} cuz not enough points.\")\n",
    "\n",
    "        simplified = simplifyWayNodes(\n",
    "            points = coords,\n",
    "            straight_angle_threshold = straight_angle_threshold,\n",
    "            min_segment_dist = min_segment_dist,\n",
    "            # transformer = transformer\n",
    "        )\n",
    "        \n",
    "        if (len(simplified) < 2):\n",
    "            print(f\"Skipping way {way.get('id')} cuz its too simple after filtering.\")\n",
    "            continue\n",
    "        \n",
    "        # Remove old <nd>\n",
    "        for nd in way.findall(\"nd\"):\n",
    "            way.remove(nd)\n",
    "\n",
    "        # New <node> & <nd> refs\n",
    "\n",
    "        for lat, lon in simplified:\n",
    "            local_x, local_y = transformer.transform(lon, lat)\n",
    "            ele = next(\n",
    "                (\n",
    "                    nodes[ref][2] \n",
    "                    for ref in nd_refs \n",
    "                    if ((nodes[ref][0] == lat) and (nodes[ref][1] == lon))\n",
    "                ),\n",
    "                0.0\n",
    "            )\n",
    "\n",
    "            node_id = str(next(new_node_id_gen))\n",
    "\n",
    "            if node_id not in used_node_ids:\n",
    "                used_node_ids.add(node_id)\n",
    "\n",
    "                node = etree.Element(\"node\", id=node_id, visible=\"true\", version=\"1\", lat=\"\", lon=\"\")\n",
    "\n",
    "                tag_x = etree.Element(\"tag\", k=\"local_x\", v=f\"{local_x:.4f}\")\n",
    "                tag_y = etree.Element(\"tag\", k=\"local_y\", v=f\"{local_y:.4f}\")\n",
    "                tag_ele = etree.Element(\"tag\", k=\"ele\", v=f\"{ele:.4f}\")\n",
    "\n",
    "                node.append(tag_x)\n",
    "                node.append(tag_y)\n",
    "                node.append(tag_ele)\n",
    "\n",
    "                new_nodes.append(node)\n",
    "\n",
    "            nd = etree.Element(\"nd\", ref = node_id)\n",
    "            way.append(nd)\n",
    "\n",
    "    # Remove old <node> elements\n",
    "    for node in osm_root.findall(\"node\"):\n",
    "        osm_root.remove(node)\n",
    "\n",
    "    # Add new resampled nodes\n",
    "    for node in new_nodes:\n",
    "        osm_root.append(node)\n",
    "    print(f\"[debug] final osm_root num nodes: {len(osm_root)}\")\n",
    "\n",
    "    # Finally, switch generator to VMB\n",
    "    osm_root.set(\"generator\", \"VMB\")\n",
    "\n",
    "    return osm_root"
   ]
  },
  {
   "cell_type": "markdown",
   "metadata": {},
   "source": [
    "### 4. Attempt conversion"
   ]
  },
  {
   "cell_type": "code",
   "execution_count": 156,
   "metadata": {},
   "outputs": [
    {
     "name": "stdout",
     "output_type": "stream",
     "text": [
      "\n",
      "=============== Working on naive ===============\n",
      "\n",
      "\n",
      "Converting sample_data/naive/three_straight_lanes.xodr\n"
     ]
    },
    {
     "name": "stderr",
     "output_type": "stream",
     "text": [
      "/tmp/ipykernel_300024/3530008777.py:31: FutureWarning: The behavior of this method will change in future versions. Use specific 'len(elem)' or 'elem is not None' test instead.\n",
      "  if (converted_osm):\n"
     ]
    },
    {
     "name": "stdout",
     "output_type": "stream",
     "text": [
      "[debug] final osm_root num nodes: 15\n",
      "Quest complete\n",
      "\n",
      "=============== Working on CARLA ===============\n",
      "\n",
      "\n",
      "Converting sample_data/CARLA/Town06.xodr\n",
      "Error during conversion: Invalid projection: +lat_0=4.9000000000000000e+1 +lon_0=8.0000000000000000e+0 +type=crs: (Internal Proj Error: proj_create: unrecognized format / unknown name)\n",
      "\n",
      "Converting sample_data/CARLA/Town05.xodr\n",
      "Error during conversion: Invalid projection: +lat_0=4.9000000000000000e+1 +lon_0=8.0000000000000000e+0 +type=crs: (Internal Proj Error: proj_create: unrecognized format / unknown name)\n",
      "\n",
      "Converting sample_data/CARLA/Town01_no_georef.xodr\n"
     ]
    },
    {
     "name": "stderr",
     "output_type": "stream",
     "text": [
      "/tmp/ipykernel_300024/3530008777.py:31: FutureWarning: The behavior of this method will change in future versions. Use specific 'len(elem)' or 'elem is not None' test instead.\n",
      "  if (converted_osm):\n"
     ]
    },
    {
     "name": "stdout",
     "output_type": "stream",
     "text": [
      "[debug] final osm_root num nodes: 1899\n",
      "Quest complete\n",
      "\n",
      "Converting sample_data/CARLA/Town07.xodr\n",
      "Error during conversion: Invalid projection: +lat_0=4.9000000000000000e+1 +lon_0=8.0000000000000000e+0 +type=crs: (Internal Proj Error: proj_create: unrecognized format / unknown name)\n",
      "\n",
      "Converting sample_data/CARLA/Town02_no_georef.xodr\n"
     ]
    },
    {
     "name": "stderr",
     "output_type": "stream",
     "text": [
      "/tmp/ipykernel_300024/3530008777.py:31: FutureWarning: The behavior of this method will change in future versions. Use specific 'len(elem)' or 'elem is not None' test instead.\n",
      "  if (converted_osm):\n"
     ]
    },
    {
     "name": "stdout",
     "output_type": "stream",
     "text": [
      "[debug] final osm_root num nodes: 1237\n",
      "Quest complete\n",
      "\n",
      "Converting sample_data/CARLA/Town02.xodr\n",
      "Error during conversion: Invalid projection: +lat_0=4.9000000000000000e+1 +lon_0=8.0000000000000000e+0 +type=crs: (Internal Proj Error: proj_create: unrecognized format / unknown name)\n",
      "\n",
      "Converting sample_data/CARLA/Town03.xodr\n",
      "Error during conversion: Invalid projection: +lat_0=4.9000000000000000e+1 +lon_0=8.0000000000000000e+0 +type=crs: (Internal Proj Error: proj_create: unrecognized format / unknown name)\n",
      "\n",
      "Converting sample_data/CARLA/Town04.xodr\n",
      "Error during conversion: Invalid projection: +lat_0=4.9000000000000000e+1 +lon_0=8.0000000000000000e+0 +type=crs: (Internal Proj Error: proj_create: unrecognized format / unknown name)\n",
      "\n",
      "Converting sample_data/CARLA/Town01.xodr\n",
      "Error during conversion: Invalid projection: +lat_0=4.9000000000000000e+1 +lon_0=8.0000000000000000e+0 +type=crs: (Internal Proj Error: proj_create: unrecognized format / unknown name)\n",
      "\n",
      "=============== Working on esmini ===============\n",
      "\n",
      "\n",
      "Converting sample_data/esmini/curves_elevation.xodr\n"
     ]
    },
    {
     "name": "stderr",
     "output_type": "stream",
     "text": [
      "/tmp/ipykernel_300024/3530008777.py:31: FutureWarning: The behavior of this method will change in future versions. Use specific 'len(elem)' or 'elem is not None' test instead.\n",
      "  if (converted_osm):\n"
     ]
    },
    {
     "name": "stdout",
     "output_type": "stream",
     "text": [
      "[debug] final osm_root num nodes: 897\n",
      "Quest complete\n",
      "\n",
      "Converting sample_data/esmini/curves.xodr\n"
     ]
    },
    {
     "name": "stderr",
     "output_type": "stream",
     "text": [
      "/tmp/ipykernel_300024/3530008777.py:31: FutureWarning: The behavior of this method will change in future versions. Use specific 'len(elem)' or 'elem is not None' test instead.\n",
      "  if (converted_osm):\n"
     ]
    },
    {
     "name": "stdout",
     "output_type": "stream",
     "text": [
      "[debug] final osm_root num nodes: 897\n",
      "Quest complete\n",
      "\n",
      "Converting sample_data/esmini/two_plus_one.xodr\n"
     ]
    },
    {
     "name": "stderr",
     "output_type": "stream",
     "text": [
      "02-Jun-25 23:23:41 - WARNING - ConversionLanelet::lanelet_type: Unknown lane type: {<LaneletType.UNKNOWN: 'unknown'>}\n",
      "02-Jun-25 23:23:41 - WARNING - ConversionLanelet::lanelet_type: Unknown lane type: {<LaneletType.UNKNOWN: 'unknown'>}\n",
      "02-Jun-25 23:23:41 - WARNING - ConversionLanelet::lanelet_type: Unknown lane type: {<LaneletType.UNKNOWN: 'unknown'>}\n",
      "02-Jun-25 23:23:41 - WARNING - ConversionLanelet::lanelet_type: Unknown lane type: {<LaneletType.UNKNOWN: 'unknown'>}\n",
      "/tmp/ipykernel_300024/3530008777.py:31: FutureWarning: The behavior of this method will change in future versions. Use specific 'len(elem)' or 'elem is not None' test instead.\n",
      "  if (converted_osm):\n",
      "02-Jun-25 23:23:41 - WARNING - OpenDRIVE/traffic_signals.py: Unknown TrafficSignIDGermany of ID 1000003 of subtype -1!\n",
      "02-Jun-25 23:23:41 - WARNING - OpenDRIVE/traffic_signals.py: Unknown TrafficSignIDGermany of ID 294 of subtype -1!\n",
      "02-Jun-25 23:23:41 - WARNING - OpenDRIVE/traffic_signals.py: Unknown TrafficSignIDGermany of ID 1000003 of subtype -1!\n",
      "02-Jun-25 23:23:41 - WARNING - OpenDRIVE/traffic_signals.py: Unknown TrafficSignIDGermany of ID 294 of subtype -1!\n",
      "02-Jun-25 23:23:41 - WARNING - OpenDRIVE/traffic_signals.py: Unknown TrafficSignIDGermany of ID 1000003 of subtype -1!\n",
      "02-Jun-25 23:23:41 - WARNING - OpenDRIVE/traffic_signals.py: Unknown TrafficSignIDGermany of ID 294 of subtype -1!\n",
      "02-Jun-25 23:23:41 - WARNING - OpenDRIVE/traffic_signals.py: Unknown TrafficSignIDGermany of ID -1 of subtype -1!\n",
      "02-Jun-25 23:23:41 - WARNING - OpenDRIVE/traffic_signals.py: Unknown TrafficSignIDGermany of ID -1 of subtype -1!\n",
      "02-Jun-25 23:23:41 - WARNING - OpenDRIVE/traffic_signals.py: Unknown TrafficSignIDGermany of ID -1 of subtype -1!\n",
      "02-Jun-25 23:23:41 - WARNING - OpenDRIVE/traffic_signals.py: Unknown TrafficSignIDGermany of ID -1 of subtype -1!\n",
      "02-Jun-25 23:23:41 - WARNING - OpenDRIVE/traffic_signals.py: Unknown TrafficSignIDGermany of ID 1000003 of subtype -1!\n",
      "02-Jun-25 23:23:41 - WARNING - OpenDRIVE/traffic_signals.py: Unknown TrafficSignIDGermany of ID 294 of subtype -1!\n",
      "02-Jun-25 23:23:41 - WARNING - OpenDRIVE/traffic_signals.py: Unknown TrafficSignIDGermany of ID 1000003 of subtype -1!\n",
      "02-Jun-25 23:23:41 - WARNING - OpenDRIVE/traffic_signals.py: Unknown TrafficSignIDGermany of ID 294 of subtype -1!\n",
      "02-Jun-25 23:23:41 - WARNING - OpenDRIVE/traffic_signals.py: Unknown TrafficSignIDGermany of ID 1000003 of subtype -1!\n",
      "02-Jun-25 23:23:41 - WARNING - OpenDRIVE/traffic_signals.py: Unknown TrafficSignIDGermany of ID 294 of subtype -1!\n",
      "02-Jun-25 23:23:41 - WARNING - OpenDRIVE/traffic_signals.py: Unknown TrafficSignIDGermany of ID 1000003 of subtype -1!\n",
      "02-Jun-25 23:23:41 - WARNING - OpenDRIVE/traffic_signals.py: Unknown TrafficSignIDGermany of ID 294 of subtype -1!\n",
      "02-Jun-25 23:23:41 - WARNING - OpenDRIVE/traffic_signals.py: Unknown TrafficSignIDGermany of ID 1000003 of subtype -1!\n",
      "02-Jun-25 23:23:41 - WARNING - OpenDRIVE/traffic_signals.py: Unknown TrafficSignIDGermany of ID 294 of subtype -1!\n",
      "02-Jun-25 23:23:41 - WARNING - OpenDRIVE/traffic_signals.py: Unknown TrafficSignIDGermany of ID 1000003 of subtype -1!\n",
      "02-Jun-25 23:23:41 - WARNING - OpenDRIVE/traffic_signals.py: Unknown TrafficSignIDGermany of ID 294 of subtype -1!\n",
      "02-Jun-25 23:23:41 - WARNING - OpenDRIVE/traffic_signals.py: Unknown TrafficSignIDGermany of ID 1000003 of subtype -1!\n",
      "02-Jun-25 23:23:41 - WARNING - OpenDRIVE/traffic_signals.py: Unknown TrafficSignIDGermany of ID 294 of subtype -1!\n",
      "02-Jun-25 23:23:41 - WARNING - OpenDRIVE/traffic_signals.py: Unknown TrafficSignIDGermany of ID 1000003 of subtype -1!\n",
      "02-Jun-25 23:23:41 - WARNING - OpenDRIVE/traffic_signals.py: Unknown TrafficSignIDGermany of ID 294 of subtype -1!\n",
      "02-Jun-25 23:23:41 - WARNING - OpenDRIVE/traffic_signals.py: Unknown TrafficSignIDGermany of ID 1000003 of subtype -1!\n",
      "02-Jun-25 23:23:41 - WARNING - OpenDRIVE/traffic_signals.py: Unknown TrafficSignIDGermany of ID 294 of subtype -1!\n",
      "02-Jun-25 23:23:41 - WARNING - OpenDRIVE/traffic_signals.py: Unknown TrafficSignIDGermany of ID 1000003 of subtype -1!\n",
      "02-Jun-25 23:23:41 - WARNING - OpenDRIVE/traffic_signals.py: Unknown TrafficSignIDGermany of ID 294 of subtype -1!\n",
      "02-Jun-25 23:23:41 - WARNING - OpenDRIVE/traffic_signals.py: Unknown TrafficSignIDGermany of ID 1000003 of subtype -1!\n",
      "02-Jun-25 23:23:41 - WARNING - OpenDRIVE/traffic_signals.py: Unknown TrafficSignIDGermany of ID 294 of subtype -1!\n",
      "02-Jun-25 23:23:41 - WARNING - OpenDRIVE/traffic_signals.py: Unknown TrafficSignIDGermany of ID 1000003 of subtype -1!\n",
      "02-Jun-25 23:23:41 - WARNING - OpenDRIVE/traffic_signals.py: Unknown TrafficSignIDGermany of ID 294 of subtype -1!\n",
      "02-Jun-25 23:23:41 - WARNING - OpenDRIVE/traffic_signals.py: Unknown TrafficSignIDGermany of ID 1000003 of subtype -1!\n",
      "02-Jun-25 23:23:41 - WARNING - OpenDRIVE/traffic_signals.py: Unknown TrafficSignIDGermany of ID 294 of subtype -1!\n",
      "02-Jun-25 23:23:41 - WARNING - OpenDRIVE/traffic_signals.py: Unknown TrafficSignIDGermany of ID 1000003 of subtype -1!\n",
      "02-Jun-25 23:23:41 - WARNING - OpenDRIVE/traffic_signals.py: Unknown TrafficSignIDGermany of ID 294 of subtype -1!\n"
     ]
    },
    {
     "name": "stdout",
     "output_type": "stream",
     "text": [
      "[debug] final osm_root num nodes: 149\n",
      "Quest complete\n",
      "\n",
      "Converting sample_data/esmini/multi_intersections.xodr\n"
     ]
    },
    {
     "name": "stderr",
     "output_type": "stream",
     "text": [
      "02-Jun-25 23:23:44 - WARNING - ConversionLanelet::lanelet_type: Unknown lane type: {<LaneletType.UNKNOWN: 'unknown'>}\n",
      "02-Jun-25 23:23:44 - WARNING - ConversionLanelet::lanelet_type: Unknown lane type: {<LaneletType.UNKNOWN: 'unknown'>}\n",
      "/home/tranhuunhathuy/anaconda3/envs/llconv/lib/python3.9/site-packages/crdesigner/map_conversion/common/conversion_lanelet_network.py:942: UserWarning: For traffic light with ID 47 no referencing lanelet was found!\n",
      "  warnings.warn(\n",
      "/home/tranhuunhathuy/anaconda3/envs/llconv/lib/python3.9/site-packages/crdesigner/map_conversion/common/conversion_lanelet_network.py:942: UserWarning: For traffic light with ID 48 no referencing lanelet was found!\n",
      "  warnings.warn(\n",
      "/home/tranhuunhathuy/anaconda3/envs/llconv/lib/python3.9/site-packages/crdesigner/map_conversion/common/conversion_lanelet_network.py:942: UserWarning: For traffic light with ID 49 no referencing lanelet was found!\n",
      "  warnings.warn(\n",
      "/home/tranhuunhathuy/anaconda3/envs/llconv/lib/python3.9/site-packages/crdesigner/map_conversion/common/conversion_lanelet_network.py:942: UserWarning: For traffic light with ID 52 no referencing lanelet was found!\n",
      "  warnings.warn(\n",
      "/home/tranhuunhathuy/anaconda3/envs/llconv/lib/python3.9/site-packages/crdesigner/map_conversion/common/conversion_lanelet_network.py:942: UserWarning: For traffic light with ID 53 no referencing lanelet was found!\n",
      "  warnings.warn(\n",
      "/home/tranhuunhathuy/anaconda3/envs/llconv/lib/python3.9/site-packages/crdesigner/map_conversion/common/conversion_lanelet_network.py:942: UserWarning: For traffic light with ID 55 no referencing lanelet was found!\n",
      "  warnings.warn(\n",
      "/home/tranhuunhathuy/anaconda3/envs/llconv/lib/python3.9/site-packages/crdesigner/map_conversion/common/conversion_lanelet_network.py:942: UserWarning: For traffic light with ID 56 no referencing lanelet was found!\n",
      "  warnings.warn(\n",
      "02-Jun-25 23:23:45 - INFO - cr2lanelet::_append_from_sign: lanelet with yield sign has no\n",
      "02-Jun-25 23:23:45 - INFO - cr2lanelet::_append_from_sign: lanelet with yield sign has no\n",
      "02-Jun-25 23:23:45 - INFO - cr2lanelet::_append_from_sign: lanelet with yield sign has no\n",
      "02-Jun-25 23:23:45 - INFO - cr2lanelet::_append_from_sign: lanelet with yield sign has no\n",
      "02-Jun-25 23:23:45 - INFO - cr2lanelet::_append_from_sign: lanelet with yield sign has no\n",
      "02-Jun-25 23:23:45 - INFO - cr2lanelet::_append_from_sign: lanelet with yield sign has no\n",
      "02-Jun-25 23:23:45 - INFO - cr2lanelet::_append_from_sign: lanelet with yield sign has no\n",
      "/tmp/ipykernel_300024/3530008777.py:31: FutureWarning: The behavior of this method will change in future versions. Use specific 'len(elem)' or 'elem is not None' test instead.\n",
      "  if (converted_osm):\n"
     ]
    },
    {
     "name": "stdout",
     "output_type": "stream",
     "text": [
      "[debug] final osm_root num nodes: 2304\n",
      "Quest complete\n",
      "\n",
      "Converting sample_data/esmini/striaghtAndCurves.xodr\n"
     ]
    },
    {
     "name": "stderr",
     "output_type": "stream",
     "text": [
      "/tmp/ipykernel_300024/3530008777.py:31: FutureWarning: The behavior of this method will change in future versions. Use specific 'len(elem)' or 'elem is not None' test instead.\n",
      "  if (converted_osm):\n"
     ]
    },
    {
     "name": "stdout",
     "output_type": "stream",
     "text": [
      "[debug] final osm_root num nodes: 885\n",
      "Quest complete\n",
      "\n",
      "Converting sample_data/esmini/e6mini-lht.xodr\n"
     ]
    },
    {
     "name": "stderr",
     "output_type": "stream",
     "text": [
      "/tmp/ipykernel_300024/3530008777.py:31: FutureWarning: The behavior of this method will change in future versions. Use specific 'len(elem)' or 'elem is not None' test instead.\n",
      "  if (converted_osm):\n",
      "/home/tranhuunhathuy/anaconda3/envs/llconv/lib/python3.9/site-packages/crdesigner/map_conversion/common/utils.py:74: UserWarning: geoidgrids removed from projection string\n",
      "  warnings.warn(\"geoidgrids removed from projection string\")\n",
      "02-Jun-25 23:23:48 - WARNING - Value guide-post is not a supported road object type!\n",
      "02-Jun-25 23:23:48 - WARNING - Value guide-post is not a supported road object type!\n"
     ]
    },
    {
     "name": "stdout",
     "output_type": "stream",
     "text": [
      "[debug] final osm_root num nodes: 42\n",
      "Quest complete\n",
      "\n",
      "Converting sample_data/esmini/straight_500m_signs.xodr\n",
      "Error during conversion: 'SWE'\n",
      "\n",
      "Converting sample_data/esmini/curve_r100.xodr\n"
     ]
    },
    {
     "name": "stderr",
     "output_type": "stream",
     "text": [
      "/tmp/ipykernel_300024/3530008777.py:31: FutureWarning: The behavior of this method will change in future versions. Use specific 'len(elem)' or 'elem is not None' test instead.\n",
      "  if (converted_osm):\n",
      "/home/tranhuunhathuy/anaconda3/envs/llconv/lib/python3.9/site-packages/crdesigner/map_conversion/common/utils.py:74: UserWarning: geoidgrids removed from projection string\n",
      "  warnings.warn(\"geoidgrids removed from projection string\")\n"
     ]
    },
    {
     "name": "stdout",
     "output_type": "stream",
     "text": [
      "[debug] final osm_root num nodes: 159\n",
      "Quest complete\n",
      "\n",
      "Converting sample_data/esmini/soderleden.xodr\n",
      "Error during conversion: int() argument must be a string, a bytes-like object or a number, not 'NoneType'\n",
      "\n",
      "Converting sample_data/esmini/straight_500m_roadmarks.xodr\n"
     ]
    },
    {
     "name": "stderr",
     "output_type": "stream",
     "text": [
      "/tmp/ipykernel_300024/3530008777.py:31: FutureWarning: The behavior of this method will change in future versions. Use specific 'len(elem)' or 'elem is not None' test instead.\n",
      "  if (converted_osm):\n",
      "/home/tranhuunhathuy/anaconda3/envs/llconv/lib/python3.9/site-packages/crdesigner/map_conversion/common/utils.py:74: UserWarning: geoidgrids removed from projection string\n",
      "  warnings.warn(\"geoidgrids removed from projection string\")\n",
      "02-Jun-25 23:23:49 - WARNING - Value rail-pole is not a supported road object type!\n",
      "02-Jun-25 23:23:49 - WARNING - Value rail-pole is not a supported road object type!\n",
      "02-Jun-25 23:23:49 - WARNING - Value guide-post is not a supported road object type!\n",
      "02-Jun-25 23:23:49 - WARNING - Value guide-post is not a supported road object type!\n"
     ]
    },
    {
     "name": "stdout",
     "output_type": "stream",
     "text": [
      "[debug] final osm_root num nodes: 11\n",
      "Quest complete\n",
      "\n",
      "Converting sample_data/esmini/e6mini.xodr\n"
     ]
    },
    {
     "name": "stderr",
     "output_type": "stream",
     "text": [
      "/tmp/ipykernel_300024/3530008777.py:31: FutureWarning: The behavior of this method will change in future versions. Use specific 'len(elem)' or 'elem is not None' test instead.\n",
      "  if (converted_osm):\n"
     ]
    },
    {
     "name": "stdout",
     "output_type": "stream",
     "text": [
      "[debug] final osm_root num nodes: 30\n",
      "Quest complete\n",
      "\n",
      "Converting sample_data/esmini/fabriksgatan.xodr\n"
     ]
    },
    {
     "name": "stderr",
     "output_type": "stream",
     "text": [
      "/tmp/ipykernel_300024/3530008777.py:31: FutureWarning: The behavior of this method will change in future versions. Use specific 'len(elem)' or 'elem is not None' test instead.\n",
      "  if (converted_osm):\n"
     ]
    },
    {
     "name": "stdout",
     "output_type": "stream",
     "text": [
      "[debug] final osm_root num nodes: 253\n",
      "Quest complete\n",
      "\n",
      "Converting sample_data/esmini/crest-curve.xodr\n"
     ]
    },
    {
     "name": "stderr",
     "output_type": "stream",
     "text": [
      "/tmp/ipykernel_300024/3530008777.py:31: FutureWarning: The behavior of this method will change in future versions. Use specific 'len(elem)' or 'elem is not None' test instead.\n",
      "  if (converted_osm):\n"
     ]
    },
    {
     "name": "stdout",
     "output_type": "stream",
     "text": [
      "[debug] final osm_root num nodes: 247\n",
      "Quest complete\n",
      "\n",
      "Converting sample_data/esmini/jolengatan.xodr\n"
     ]
    },
    {
     "name": "stderr",
     "output_type": "stream",
     "text": [
      "/tmp/ipykernel_300024/3530008777.py:31: FutureWarning: The behavior of this method will change in future versions. Use specific 'len(elem)' or 'elem is not None' test instead.\n",
      "  if (converted_osm):\n",
      "/home/tranhuunhathuy/anaconda3/envs/llconv/lib/python3.9/site-packages/crdesigner/map_conversion/common/utils.py:74: UserWarning: geoidgrids removed from projection string\n",
      "  warnings.warn(\"geoidgrids removed from projection string\")\n"
     ]
    },
    {
     "name": "stdout",
     "output_type": "stream",
     "text": [
      "[debug] final osm_root num nodes: 99\n",
      "Quest complete\n",
      "\n",
      "Converting sample_data/esmini/straight_500m.xodr\n"
     ]
    },
    {
     "name": "stderr",
     "output_type": "stream",
     "text": [
      "/tmp/ipykernel_300024/3530008777.py:31: FutureWarning: The behavior of this method will change in future versions. Use specific 'len(elem)' or 'elem is not None' test instead.\n",
      "  if (converted_osm):\n"
     ]
    },
    {
     "name": "stdout",
     "output_type": "stream",
     "text": [
      "[debug] final osm_root num nodes: 11\n",
      "Quest complete\n",
      "\n",
      "=============== Working on SafetyPool_Emil ===============\n",
      "\n",
      "\n",
      "Converting sample_data/SafetyPool_Emil/3d8d3727-4feb-4dd8-b09d-3fa9de1a15f4.xodr\n"
     ]
    },
    {
     "name": "stderr",
     "output_type": "stream",
     "text": [
      "/tmp/ipykernel_300024/3530008777.py:31: FutureWarning: The behavior of this method will change in future versions. Use specific 'len(elem)' or 'elem is not None' test instead.\n",
      "  if (converted_osm):\n"
     ]
    },
    {
     "name": "stdout",
     "output_type": "stream",
     "text": [
      "[debug] final osm_root num nodes: 27\n",
      "Quest complete\n",
      "\n",
      "Converting sample_data/SafetyPool_Emil/232bfca4-41b5-4e60-bbfe-593b9f76b218.xodr\n",
      "[debug] final osm_root num nodes: 7\n",
      "Quest complete\n",
      "\n",
      "Converting sample_data/SafetyPool_Emil/67483a1a-8f56-4023-b175-2651a1505a59.xodr\n"
     ]
    },
    {
     "name": "stderr",
     "output_type": "stream",
     "text": [
      "/tmp/ipykernel_300024/3530008777.py:31: FutureWarning: The behavior of this method will change in future versions. Use specific 'len(elem)' or 'elem is not None' test instead.\n",
      "  if (converted_osm):\n",
      "/tmp/ipykernel_300024/3530008777.py:31: FutureWarning: The behavior of this method will change in future versions. Use specific 'len(elem)' or 'elem is not None' test instead.\n",
      "  if (converted_osm):\n"
     ]
    },
    {
     "name": "stdout",
     "output_type": "stream",
     "text": [
      "[debug] final osm_root num nodes: 27\n",
      "Quest complete\n",
      "\n",
      "Converting sample_data/SafetyPool_Emil/439e82cc-d8db-44dd-9368-f8bdf2ee4bd2.xodr\n",
      "[debug] final osm_root num nodes: 7\n",
      "Quest complete\n",
      "\n",
      "Converting sample_data/SafetyPool_Emil/c4e603fe-d2f6-45e8-98b7-a1945bc2b22d.xodr\n"
     ]
    },
    {
     "name": "stderr",
     "output_type": "stream",
     "text": [
      "/tmp/ipykernel_300024/3530008777.py:31: FutureWarning: The behavior of this method will change in future versions. Use specific 'len(elem)' or 'elem is not None' test instead.\n",
      "  if (converted_osm):\n",
      "/tmp/ipykernel_300024/3530008777.py:31: FutureWarning: The behavior of this method will change in future versions. Use specific 'len(elem)' or 'elem is not None' test instead.\n",
      "  if (converted_osm):\n"
     ]
    },
    {
     "name": "stdout",
     "output_type": "stream",
     "text": [
      "[debug] final osm_root num nodes: 27\n",
      "Quest complete\n",
      "\n",
      "Converting sample_data/SafetyPool_Emil/06add496-d3c8-446f-aaaa-e6703146b9f7.xodr\n",
      "[debug] final osm_root num nodes: 11\n",
      "Quest complete\n"
     ]
    },
    {
     "name": "stderr",
     "output_type": "stream",
     "text": [
      "/tmp/ipykernel_300024/3530008777.py:31: FutureWarning: The behavior of this method will change in future versions. Use specific 'len(elem)' or 'elem is not None' test instead.\n",
      "  if (converted_osm):\n"
     ]
    }
   ],
   "source": [
    "for set_name in set_list:\n",
    "\n",
    "    print(f\"\\n=============== Working on {set_name} ===============\\n\")\n",
    "\n",
    "    this_set_input_path = input_dir / set_name\n",
    "    this_set_output_path = output_dir / set_name\n",
    "    if not (os.path.exists(this_set_output_path)):\n",
    "        os.makedirs(this_set_output_path)\n",
    "\n",
    "    for input_file in os.listdir(this_set_input_path):\n",
    "\n",
    "        # Input handling\n",
    "        input_file_path = this_set_input_path / input_file\n",
    "        print(f\"\\nConverting {input_file_path}\")\n",
    "\n",
    "        # Output handling\n",
    "        input_file_tail_trimmed = \".\".join(input_file.split(\".\")[ : -1])\n",
    "        output_filename = f\"converted_{input_file_tail_trimmed}.osm\"\n",
    "        output_path = this_set_output_path / output_filename\n",
    "\n",
    "        # proj_str, output_latlon = extractGeorefString(input_file_path)\n",
    "        scenario_location = prepConversionCRS()\n",
    "        \n",
    "        # Conversion\n",
    "        converted_osm = conductConversion(\n",
    "            input_file = input_file_path, \n",
    "            scenario_location = scenario_location\n",
    "        )\n",
    "\n",
    "        # Conversion succeed!\n",
    "        if (converted_osm):\n",
    "\n",
    "            predown_filename = f\"predown_{input_file_tail_trimmed}.osm\"\n",
    "            predown_path = this_set_output_path / predown_filename\n",
    "            with open(predown_path, \"wb\") as file_out:\n",
    "                file_out.write(etree.tostring(\n",
    "                    converted_osm, \n",
    "                    xml_declaration = True, \n",
    "                    encoding = \"UTF-8\", \n",
    "                    pretty_print = True\n",
    "                ))\n",
    "\n",
    "            # Here comes my postprocessing\n",
    "            downsamp_osm = postprocessDownsamplingOSM(\n",
    "                converted_osm, \n",
    "                STRAIGHT_ANGLE_THRSH,\n",
    "                MIN_SEGMENT_DIST,\n",
    "            )\n",
    "\n",
    "            with open(output_path, \"wb\") as file_out:\n",
    "                file_out.write(etree.tostring(\n",
    "                    downsamp_osm, \n",
    "                    xml_declaration = True, \n",
    "                    encoding = \"UTF-8\", \n",
    "                    pretty_print = True\n",
    "                ))\n",
    "        \n",
    "            print(\"Quest complete\")"
   ]
  }
 ],
 "metadata": {
  "kernelspec": {
   "display_name": "llconv",
   "language": "python",
   "name": "python3"
  },
  "language_info": {
   "codemirror_mode": {
    "name": "ipython",
    "version": 3
   },
   "file_extension": ".py",
   "mimetype": "text/x-python",
   "name": "python",
   "nbconvert_exporter": "python",
   "pygments_lexer": "ipython3",
   "version": "3.9.21"
  }
 },
 "nbformat": 4,
 "nbformat_minor": 2
}
