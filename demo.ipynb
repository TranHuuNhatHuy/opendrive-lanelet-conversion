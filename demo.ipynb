{
 "cells": [
  {
   "cell_type": "markdown",
   "metadata": {},
   "source": [
    "# OpenDRIVE - Lanelet2 conversion"
   ]
  },
  {
   "cell_type": "markdown",
   "metadata": {},
   "source": [
    "### 1. Imports"
   ]
  },
  {
   "cell_type": "code",
   "execution_count": 10,
   "metadata": {},
   "outputs": [],
   "source": [
    "import os\n",
    "import shutil\n",
    "from pathlib import Path\n",
    "from lxml import etree\n",
    "\n",
    "# import sys\n",
    "# sys.path.append(os.path.abspath(os.path.join(\n",
    "#     os.path.dirname(__file__), \n",
    "#     '..',\n",
    "# )))\n",
    "\n",
    "from utils.conversion import prepConversionCRS, conductConversion\n",
    "from utils.geometry import PointCoords, coords2XY, dist_2nodes, calAngleTriplePoints\n",
    "from utils.postprocess import simplifyWayNodes, postprocessDownsamplingOSM"
   ]
  },
  {
   "cell_type": "markdown",
   "metadata": {},
   "source": [
    "### 2. Declarations"
   ]
  },
  {
   "cell_type": "code",
   "execution_count": 11,
   "metadata": {},
   "outputs": [],
   "source": [
    "# Input handling\n",
    "input_dir = Path(\"./sample_data\")\n",
    "set_list = [\n",
    "    \"naive\",\n",
    "    \"CARLA\",\n",
    "    \"esmini\"\n",
    "]\n",
    "\n",
    "# Output handling\n",
    "output_dir = Path(\"./output/latest\")\n",
    "output_dir.mkdir(exist_ok = True)\n",
    "\n",
    "# Prep CRS conversion instance\n",
    "scenario_location = prepConversionCRS()\n",
    "\n",
    "# Downsampling params (will add to config later)\n",
    "STRAIGHT_ANGLE_THRSH = 179.9            # Extremely strict angle threshold (trust me, 179 wasn't enough)\n",
    "MIN_SEGMENT_DIST = 3.0                  # Minimum segment length accepted"
   ]
  },
  {
   "cell_type": "markdown",
   "metadata": {},
   "source": [
    "### 3. Attempt conversion"
   ]
  },
  {
   "cell_type": "code",
   "execution_count": 12,
   "metadata": {},
   "outputs": [
    {
     "name": "stdout",
     "output_type": "stream",
     "text": [
      "\n",
      "=============== Working on naive ===============\n",
      "\n",
      "\n",
      "Converting sample_data/naive/three_straight_lanes.xodr\n"
     ]
    },
    {
     "name": "stderr",
     "output_type": "stream",
     "text": [
      "/tmp/ipykernel_19315/4279820429.py:28: FutureWarning: The behavior of this method will change in future versions. Use specific 'len(elem)' or 'elem is not None' test instead.\n",
      "  if (converted_osm):\n"
     ]
    },
    {
     "name": "stdout",
     "output_type": "stream",
     "text": [
      "[debug] final osm_root num nodes: 15\n",
      "Quest complete\n",
      "\n",
      "=============== Working on CARLA ===============\n",
      "\n",
      "\n",
      "Converting sample_data/CARLA/Town06.xodr\n",
      "Error during conversion: Invalid projection: +lat_0=4.9000000000000000e+1 +lon_0=8.0000000000000000e+0 +type=crs: (Internal Proj Error: proj_create: unrecognized format / unknown name)\n",
      "\n",
      "Converting sample_data/CARLA/Town05.xodr\n",
      "Error during conversion: Invalid projection: +lat_0=4.9000000000000000e+1 +lon_0=8.0000000000000000e+0 +type=crs: (Internal Proj Error: proj_create: unrecognized format / unknown name)\n",
      "\n",
      "Converting sample_data/CARLA/Town07.xodr\n",
      "Error during conversion: Invalid projection: +lat_0=4.9000000000000000e+1 +lon_0=8.0000000000000000e+0 +type=crs: (Internal Proj Error: proj_create: unrecognized format / unknown name)\n",
      "\n",
      "Converting sample_data/CARLA/Town02.xodr\n",
      "Error during conversion: Invalid projection: +lat_0=4.9000000000000000e+1 +lon_0=8.0000000000000000e+0 +type=crs: (Internal Proj Error: proj_create: unrecognized format / unknown name)\n",
      "\n",
      "Converting sample_data/CARLA/Town03.xodr\n",
      "Error during conversion: Invalid projection: +lat_0=4.9000000000000000e+1 +lon_0=8.0000000000000000e+0 +type=crs: (Internal Proj Error: proj_create: unrecognized format / unknown name)\n",
      "\n",
      "Converting sample_data/CARLA/Town04.xodr\n",
      "Error during conversion: Invalid projection: +lat_0=4.9000000000000000e+1 +lon_0=8.0000000000000000e+0 +type=crs: (Internal Proj Error: proj_create: unrecognized format / unknown name)\n",
      "\n",
      "Converting sample_data/CARLA/Town01.xodr\n",
      "Error during conversion: Invalid projection: +lat_0=4.9000000000000000e+1 +lon_0=8.0000000000000000e+0 +type=crs: (Internal Proj Error: proj_create: unrecognized format / unknown name)\n",
      "\n",
      "=============== Working on esmini ===============\n",
      "\n",
      "\n",
      "Converting sample_data/esmini/curves_elevation.xodr\n"
     ]
    },
    {
     "name": "stderr",
     "output_type": "stream",
     "text": [
      "/tmp/ipykernel_19315/4279820429.py:28: FutureWarning: The behavior of this method will change in future versions. Use specific 'len(elem)' or 'elem is not None' test instead.\n",
      "  if (converted_osm):\n"
     ]
    },
    {
     "name": "stdout",
     "output_type": "stream",
     "text": [
      "[debug] final osm_root num nodes: 5573\n",
      "Quest complete\n",
      "\n",
      "Converting sample_data/esmini/curves.xodr\n"
     ]
    },
    {
     "name": "stderr",
     "output_type": "stream",
     "text": [
      "/tmp/ipykernel_19315/4279820429.py:28: FutureWarning: The behavior of this method will change in future versions. Use specific 'len(elem)' or 'elem is not None' test instead.\n",
      "  if (converted_osm):\n"
     ]
    },
    {
     "name": "stdout",
     "output_type": "stream",
     "text": [
      "[debug] final osm_root num nodes: 5573\n",
      "Quest complete\n",
      "\n",
      "Converting sample_data/esmini/two_plus_one.xodr\n"
     ]
    },
    {
     "name": "stderr",
     "output_type": "stream",
     "text": [
      "09-Apr-25 20:03:08 - WARNING - ConversionLanelet::lanelet_type: Unknown lane type: {<LaneletType.UNKNOWN: 'unknown'>}\n",
      "09-Apr-25 20:03:08 - WARNING - ConversionLanelet::lanelet_type: Unknown lane type: {<LaneletType.UNKNOWN: 'unknown'>}\n",
      "09-Apr-25 20:03:08 - WARNING - ConversionLanelet::lanelet_type: Unknown lane type: {<LaneletType.UNKNOWN: 'unknown'>}\n",
      "09-Apr-25 20:03:08 - WARNING - ConversionLanelet::lanelet_type: Unknown lane type: {<LaneletType.UNKNOWN: 'unknown'>}\n",
      "/tmp/ipykernel_19315/4279820429.py:28: FutureWarning: The behavior of this method will change in future versions. Use specific 'len(elem)' or 'elem is not None' test instead.\n",
      "  if (converted_osm):\n",
      "09-Apr-25 20:03:08 - WARNING - OpenDRIVE/traffic_signals.py: Unknown TrafficSignIDGermany of ID 1000003 of subtype -1!\n",
      "09-Apr-25 20:03:08 - WARNING - OpenDRIVE/traffic_signals.py: Unknown TrafficSignIDGermany of ID 294 of subtype -1!\n",
      "09-Apr-25 20:03:08 - WARNING - OpenDRIVE/traffic_signals.py: Unknown TrafficSignIDGermany of ID 1000003 of subtype -1!\n",
      "09-Apr-25 20:03:08 - WARNING - OpenDRIVE/traffic_signals.py: Unknown TrafficSignIDGermany of ID 294 of subtype -1!\n",
      "09-Apr-25 20:03:08 - WARNING - OpenDRIVE/traffic_signals.py: Unknown TrafficSignIDGermany of ID 1000003 of subtype -1!\n",
      "09-Apr-25 20:03:08 - WARNING - OpenDRIVE/traffic_signals.py: Unknown TrafficSignIDGermany of ID 294 of subtype -1!\n",
      "09-Apr-25 20:03:08 - WARNING - OpenDRIVE/traffic_signals.py: Unknown TrafficSignIDGermany of ID -1 of subtype -1!\n",
      "09-Apr-25 20:03:08 - WARNING - OpenDRIVE/traffic_signals.py: Unknown TrafficSignIDGermany of ID -1 of subtype -1!\n",
      "09-Apr-25 20:03:08 - WARNING - OpenDRIVE/traffic_signals.py: Unknown TrafficSignIDGermany of ID -1 of subtype -1!\n",
      "09-Apr-25 20:03:08 - WARNING - OpenDRIVE/traffic_signals.py: Unknown TrafficSignIDGermany of ID -1 of subtype -1!\n",
      "09-Apr-25 20:03:08 - WARNING - OpenDRIVE/traffic_signals.py: Unknown TrafficSignIDGermany of ID 1000003 of subtype -1!\n",
      "09-Apr-25 20:03:08 - WARNING - OpenDRIVE/traffic_signals.py: Unknown TrafficSignIDGermany of ID 294 of subtype -1!\n",
      "09-Apr-25 20:03:08 - WARNING - OpenDRIVE/traffic_signals.py: Unknown TrafficSignIDGermany of ID 1000003 of subtype -1!\n",
      "09-Apr-25 20:03:08 - WARNING - OpenDRIVE/traffic_signals.py: Unknown TrafficSignIDGermany of ID 294 of subtype -1!\n",
      "09-Apr-25 20:03:08 - WARNING - OpenDRIVE/traffic_signals.py: Unknown TrafficSignIDGermany of ID 1000003 of subtype -1!\n",
      "09-Apr-25 20:03:08 - WARNING - OpenDRIVE/traffic_signals.py: Unknown TrafficSignIDGermany of ID 294 of subtype -1!\n",
      "09-Apr-25 20:03:08 - WARNING - OpenDRIVE/traffic_signals.py: Unknown TrafficSignIDGermany of ID 1000003 of subtype -1!\n",
      "09-Apr-25 20:03:08 - WARNING - OpenDRIVE/traffic_signals.py: Unknown TrafficSignIDGermany of ID 294 of subtype -1!\n",
      "09-Apr-25 20:03:08 - WARNING - OpenDRIVE/traffic_signals.py: Unknown TrafficSignIDGermany of ID 1000003 of subtype -1!\n",
      "09-Apr-25 20:03:08 - WARNING - OpenDRIVE/traffic_signals.py: Unknown TrafficSignIDGermany of ID 294 of subtype -1!\n",
      "09-Apr-25 20:03:08 - WARNING - OpenDRIVE/traffic_signals.py: Unknown TrafficSignIDGermany of ID 1000003 of subtype -1!\n",
      "09-Apr-25 20:03:08 - WARNING - OpenDRIVE/traffic_signals.py: Unknown TrafficSignIDGermany of ID 294 of subtype -1!\n",
      "09-Apr-25 20:03:08 - WARNING - OpenDRIVE/traffic_signals.py: Unknown TrafficSignIDGermany of ID 1000003 of subtype -1!\n",
      "09-Apr-25 20:03:08 - WARNING - OpenDRIVE/traffic_signals.py: Unknown TrafficSignIDGermany of ID 294 of subtype -1!\n",
      "09-Apr-25 20:03:08 - WARNING - OpenDRIVE/traffic_signals.py: Unknown TrafficSignIDGermany of ID 1000003 of subtype -1!\n",
      "09-Apr-25 20:03:08 - WARNING - OpenDRIVE/traffic_signals.py: Unknown TrafficSignIDGermany of ID 294 of subtype -1!\n",
      "09-Apr-25 20:03:08 - WARNING - OpenDRIVE/traffic_signals.py: Unknown TrafficSignIDGermany of ID 1000003 of subtype -1!\n",
      "09-Apr-25 20:03:08 - WARNING - OpenDRIVE/traffic_signals.py: Unknown TrafficSignIDGermany of ID 294 of subtype -1!\n",
      "09-Apr-25 20:03:08 - WARNING - OpenDRIVE/traffic_signals.py: Unknown TrafficSignIDGermany of ID 1000003 of subtype -1!\n",
      "09-Apr-25 20:03:08 - WARNING - OpenDRIVE/traffic_signals.py: Unknown TrafficSignIDGermany of ID 294 of subtype -1!\n",
      "09-Apr-25 20:03:08 - WARNING - OpenDRIVE/traffic_signals.py: Unknown TrafficSignIDGermany of ID 1000003 of subtype -1!\n",
      "09-Apr-25 20:03:08 - WARNING - OpenDRIVE/traffic_signals.py: Unknown TrafficSignIDGermany of ID 294 of subtype -1!\n",
      "09-Apr-25 20:03:08 - WARNING - OpenDRIVE/traffic_signals.py: Unknown TrafficSignIDGermany of ID 1000003 of subtype -1!\n",
      "09-Apr-25 20:03:08 - WARNING - OpenDRIVE/traffic_signals.py: Unknown TrafficSignIDGermany of ID 294 of subtype -1!\n",
      "09-Apr-25 20:03:08 - WARNING - OpenDRIVE/traffic_signals.py: Unknown TrafficSignIDGermany of ID 1000003 of subtype -1!\n",
      "09-Apr-25 20:03:08 - WARNING - OpenDRIVE/traffic_signals.py: Unknown TrafficSignIDGermany of ID 294 of subtype -1!\n",
      "09-Apr-25 20:03:08 - WARNING - OpenDRIVE/traffic_signals.py: Unknown TrafficSignIDGermany of ID 1000003 of subtype -1!\n",
      "09-Apr-25 20:03:08 - WARNING - OpenDRIVE/traffic_signals.py: Unknown TrafficSignIDGermany of ID 294 of subtype -1!\n"
     ]
    },
    {
     "name": "stdout",
     "output_type": "stream",
     "text": [
      "[debug] final osm_root num nodes: 438\n",
      "Quest complete\n",
      "\n",
      "Converting sample_data/esmini/multi_intersections.xodr\n"
     ]
    },
    {
     "name": "stderr",
     "output_type": "stream",
     "text": [
      "09-Apr-25 20:03:11 - WARNING - ConversionLanelet::lanelet_type: Unknown lane type: {<LaneletType.UNKNOWN: 'unknown'>}\n",
      "09-Apr-25 20:03:11 - WARNING - ConversionLanelet::lanelet_type: Unknown lane type: {<LaneletType.UNKNOWN: 'unknown'>}\n",
      "/home/tranhuunhathuy/anaconda3/envs/llconv/lib/python3.9/site-packages/crdesigner/map_conversion/common/conversion_lanelet_network.py:942: UserWarning: For traffic light with ID 47 no referencing lanelet was found!\n",
      "  warnings.warn(\n",
      "/home/tranhuunhathuy/anaconda3/envs/llconv/lib/python3.9/site-packages/crdesigner/map_conversion/common/conversion_lanelet_network.py:942: UserWarning: For traffic light with ID 48 no referencing lanelet was found!\n",
      "  warnings.warn(\n",
      "/home/tranhuunhathuy/anaconda3/envs/llconv/lib/python3.9/site-packages/crdesigner/map_conversion/common/conversion_lanelet_network.py:942: UserWarning: For traffic light with ID 49 no referencing lanelet was found!\n",
      "  warnings.warn(\n",
      "/home/tranhuunhathuy/anaconda3/envs/llconv/lib/python3.9/site-packages/crdesigner/map_conversion/common/conversion_lanelet_network.py:942: UserWarning: For traffic light with ID 52 no referencing lanelet was found!\n",
      "  warnings.warn(\n",
      "/home/tranhuunhathuy/anaconda3/envs/llconv/lib/python3.9/site-packages/crdesigner/map_conversion/common/conversion_lanelet_network.py:942: UserWarning: For traffic light with ID 53 no referencing lanelet was found!\n",
      "  warnings.warn(\n",
      "/home/tranhuunhathuy/anaconda3/envs/llconv/lib/python3.9/site-packages/crdesigner/map_conversion/common/conversion_lanelet_network.py:942: UserWarning: For traffic light with ID 55 no referencing lanelet was found!\n",
      "  warnings.warn(\n",
      "/home/tranhuunhathuy/anaconda3/envs/llconv/lib/python3.9/site-packages/crdesigner/map_conversion/common/conversion_lanelet_network.py:942: UserWarning: For traffic light with ID 56 no referencing lanelet was found!\n",
      "  warnings.warn(\n",
      "09-Apr-25 20:03:12 - INFO - cr2lanelet::_append_from_sign: lanelet with yield sign has no\n",
      "09-Apr-25 20:03:12 - INFO - cr2lanelet::_append_from_sign: lanelet with yield sign has no\n",
      "09-Apr-25 20:03:12 - INFO - cr2lanelet::_append_from_sign: lanelet with yield sign has no\n",
      "09-Apr-25 20:03:12 - INFO - cr2lanelet::_append_from_sign: lanelet with yield sign has no\n",
      "09-Apr-25 20:03:12 - INFO - cr2lanelet::_append_from_sign: lanelet with yield sign has no\n",
      "09-Apr-25 20:03:12 - INFO - cr2lanelet::_append_from_sign: lanelet with yield sign has no\n",
      "09-Apr-25 20:03:12 - INFO - cr2lanelet::_append_from_sign: lanelet with yield sign has no\n",
      "/tmp/ipykernel_19315/4279820429.py:28: FutureWarning: The behavior of this method will change in future versions. Use specific 'len(elem)' or 'elem is not None' test instead.\n",
      "  if (converted_osm):\n"
     ]
    },
    {
     "name": "stdout",
     "output_type": "stream",
     "text": [
      "[debug] final osm_root num nodes: 9822\n",
      "Quest complete\n",
      "\n",
      "Converting sample_data/esmini/striaghtAndCurves.xodr\n"
     ]
    },
    {
     "name": "stderr",
     "output_type": "stream",
     "text": [
      "/tmp/ipykernel_19315/4279820429.py:28: FutureWarning: The behavior of this method will change in future versions. Use specific 'len(elem)' or 'elem is not None' test instead.\n",
      "  if (converted_osm):\n"
     ]
    },
    {
     "name": "stdout",
     "output_type": "stream",
     "text": [
      "[debug] final osm_root num nodes: 5573\n",
      "Quest complete\n",
      "\n",
      "Converting sample_data/esmini/e6mini-lht.xodr\n"
     ]
    },
    {
     "name": "stderr",
     "output_type": "stream",
     "text": [
      "/tmp/ipykernel_19315/4279820429.py:28: FutureWarning: The behavior of this method will change in future versions. Use specific 'len(elem)' or 'elem is not None' test instead.\n",
      "  if (converted_osm):\n",
      "/home/tranhuunhathuy/anaconda3/envs/llconv/lib/python3.9/site-packages/crdesigner/map_conversion/common/utils.py:74: UserWarning: geoidgrids removed from projection string\n",
      "  warnings.warn(\"geoidgrids removed from projection string\")\n",
      "09-Apr-25 20:03:15 - WARNING - Value guide-post is not a supported road object type!\n",
      "09-Apr-25 20:03:15 - WARNING - Value guide-post is not a supported road object type!\n"
     ]
    },
    {
     "name": "stdout",
     "output_type": "stream",
     "text": [
      "[debug] final osm_root num nodes: 42\n",
      "Quest complete\n",
      "\n",
      "Converting sample_data/esmini/straight_500m_signs.xodr\n",
      "Error during conversion: 'SWE'\n",
      "\n",
      "Converting sample_data/esmini/curve_r100.xodr\n"
     ]
    },
    {
     "name": "stderr",
     "output_type": "stream",
     "text": [
      "/tmp/ipykernel_19315/4279820429.py:28: FutureWarning: The behavior of this method will change in future versions. Use specific 'len(elem)' or 'elem is not None' test instead.\n",
      "  if (converted_osm):\n",
      "/home/tranhuunhathuy/anaconda3/envs/llconv/lib/python3.9/site-packages/crdesigner/map_conversion/common/utils.py:74: UserWarning: geoidgrids removed from projection string\n",
      "  warnings.warn(\"geoidgrids removed from projection string\")\n"
     ]
    },
    {
     "name": "stdout",
     "output_type": "stream",
     "text": [
      "[debug] final osm_root num nodes: 956\n",
      "Quest complete\n",
      "\n",
      "Converting sample_data/esmini/soderleden.xodr\n",
      "Error during conversion: int() argument must be a string, a bytes-like object or a number, not 'NoneType'\n",
      "\n",
      "Converting sample_data/esmini/straight_500m_roadmarks.xodr\n"
     ]
    },
    {
     "name": "stderr",
     "output_type": "stream",
     "text": [
      "/tmp/ipykernel_19315/4279820429.py:28: FutureWarning: The behavior of this method will change in future versions. Use specific 'len(elem)' or 'elem is not None' test instead.\n",
      "  if (converted_osm):\n",
      "/home/tranhuunhathuy/anaconda3/envs/llconv/lib/python3.9/site-packages/crdesigner/map_conversion/common/utils.py:74: UserWarning: geoidgrids removed from projection string\n",
      "  warnings.warn(\"geoidgrids removed from projection string\")\n",
      "09-Apr-25 20:03:16 - WARNING - Value rail-pole is not a supported road object type!\n",
      "09-Apr-25 20:03:16 - WARNING - Value rail-pole is not a supported road object type!\n",
      "09-Apr-25 20:03:16 - WARNING - Value guide-post is not a supported road object type!\n",
      "09-Apr-25 20:03:16 - WARNING - Value guide-post is not a supported road object type!\n"
     ]
    },
    {
     "name": "stdout",
     "output_type": "stream",
     "text": [
      "[debug] final osm_root num nodes: 11\n",
      "Quest complete\n",
      "\n",
      "Converting sample_data/esmini/e6mini.xodr\n"
     ]
    },
    {
     "name": "stderr",
     "output_type": "stream",
     "text": [
      "/tmp/ipykernel_19315/4279820429.py:28: FutureWarning: The behavior of this method will change in future versions. Use specific 'len(elem)' or 'elem is not None' test instead.\n",
      "  if (converted_osm):\n"
     ]
    },
    {
     "name": "stdout",
     "output_type": "stream",
     "text": [
      "[debug] final osm_root num nodes: 30\n",
      "Quest complete\n",
      "\n",
      "Converting sample_data/esmini/fabriksgatan.xodr\n"
     ]
    },
    {
     "name": "stderr",
     "output_type": "stream",
     "text": [
      "/tmp/ipykernel_19315/4279820429.py:28: FutureWarning: The behavior of this method will change in future versions. Use specific 'len(elem)' or 'elem is not None' test instead.\n",
      "  if (converted_osm):\n"
     ]
    },
    {
     "name": "stdout",
     "output_type": "stream",
     "text": [
      "[debug] final osm_root num nodes: 765\n",
      "Quest complete\n",
      "\n",
      "Converting sample_data/esmini/crest-curve.xodr\n"
     ]
    },
    {
     "name": "stderr",
     "output_type": "stream",
     "text": [
      "/tmp/ipykernel_19315/4279820429.py:28: FutureWarning: The behavior of this method will change in future versions. Use specific 'len(elem)' or 'elem is not None' test instead.\n",
      "  if (converted_osm):\n"
     ]
    },
    {
     "name": "stdout",
     "output_type": "stream",
     "text": [
      "[debug] final osm_root num nodes: 1493\n",
      "Quest complete\n",
      "\n",
      "Converting sample_data/esmini/jolengatan.xodr\n"
     ]
    },
    {
     "name": "stderr",
     "output_type": "stream",
     "text": [
      "/tmp/ipykernel_19315/4279820429.py:28: FutureWarning: The behavior of this method will change in future versions. Use specific 'len(elem)' or 'elem is not None' test instead.\n",
      "  if (converted_osm):\n",
      "/home/tranhuunhathuy/anaconda3/envs/llconv/lib/python3.9/site-packages/crdesigner/map_conversion/common/utils.py:74: UserWarning: geoidgrids removed from projection string\n",
      "  warnings.warn(\"geoidgrids removed from projection string\")\n"
     ]
    },
    {
     "name": "stdout",
     "output_type": "stream",
     "text": [
      "[debug] final osm_root num nodes: 518\n",
      "Quest complete\n",
      "\n",
      "Converting sample_data/esmini/straight_500m.xodr\n",
      "[debug] final osm_root num nodes: 11\n",
      "Quest complete\n"
     ]
    },
    {
     "name": "stderr",
     "output_type": "stream",
     "text": [
      "/tmp/ipykernel_19315/4279820429.py:28: FutureWarning: The behavior of this method will change in future versions. Use specific 'len(elem)' or 'elem is not None' test instead.\n",
      "  if (converted_osm):\n"
     ]
    }
   ],
   "source": [
    "for set_name in set_list:\n",
    "\n",
    "    print(f\"\\n=============== Working on {set_name} ===============\\n\")\n",
    "\n",
    "    this_set_input_path = input_dir / set_name\n",
    "    this_set_output_path = output_dir / set_name\n",
    "    if not (os.path.exists(this_set_output_path)):\n",
    "        os.makedirs(this_set_output_path)\n",
    "\n",
    "    for input_file in os.listdir(this_set_input_path):\n",
    "\n",
    "        # Input handling\n",
    "        input_file_path = this_set_input_path / input_file\n",
    "        print(f\"\\nConverting {input_file_path}\")\n",
    "\n",
    "        # Output handling\n",
    "        input_file_tail_trimmed = \".\".join(input_file.split(\".\")[ : -1])\n",
    "        output_filename = f\"converted_{input_file_tail_trimmed}.osm\"\n",
    "        output_path = this_set_output_path / output_filename\n",
    "        \n",
    "        # Conversion\n",
    "        converted_osm = conductConversion(\n",
    "            input_file = input_file_path, \n",
    "            scenario_location = scenario_location\n",
    "        )\n",
    "\n",
    "        # Conversion succeed!\n",
    "        if (converted_osm):\n",
    "\n",
    "            # Here comes my postprocessing\n",
    "            downsamp_osm = postprocessDownsamplingOSM(\n",
    "                converted_osm, \n",
    "                STRAIGHT_ANGLE_THRSH,\n",
    "                MIN_SEGMENT_DIST\n",
    "            )\n",
    "\n",
    "            with open(output_path, \"wb\") as file_out:\n",
    "                file_out.write(etree.tostring(\n",
    "                    downsamp_osm, \n",
    "                    xml_declaration = True, \n",
    "                    encoding = \"UTF-8\", \n",
    "                    pretty_print = True\n",
    "                ))\n",
    "        \n",
    "            print(\"Quest complete\")"
   ]
  }
 ],
 "metadata": {
  "kernelspec": {
   "display_name": "llconv",
   "language": "python",
   "name": "python3"
  },
  "language_info": {
   "codemirror_mode": {
    "name": "ipython",
    "version": 3
   },
   "file_extension": ".py",
   "mimetype": "text/x-python",
   "name": "python",
   "nbconvert_exporter": "python",
   "pygments_lexer": "ipython3",
   "version": "3.9.21"
  }
 },
 "nbformat": 4,
 "nbformat_minor": 2
}
