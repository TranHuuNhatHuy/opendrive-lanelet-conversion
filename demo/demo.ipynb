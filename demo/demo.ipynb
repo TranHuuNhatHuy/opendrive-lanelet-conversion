{
 "cells": [
  {
   "cell_type": "markdown",
   "metadata": {},
   "source": [
    "# OpenDRIVE - Lanelet2 conversion"
   ]
  },
  {
   "cell_type": "markdown",
   "metadata": {},
   "source": [
    "### 1. Imports"
   ]
  },
  {
   "cell_type": "code",
   "execution_count": null,
   "metadata": {},
   "outputs": [],
   "source": [
    "import os\n",
    "import math\n",
    "import itertools\n",
    "from pprint import pprint\n",
    "from lxml import etree\n",
    "from crdesigner.common.config.lanelet2_config import lanelet2_config\n",
    "from crdesigner.map_conversion.lanelet2.cr2lanelet import CR2LaneletConverter\n",
    "from commonroad.scenario.scenario import Location, GeoTransformation\n",
    "from crdesigner.map_conversion.map_conversion_interface import opendrive_to_commonroad\n",
    "from pathlib import Path"
   ]
  },
  {
   "cell_type": "markdown",
   "metadata": {},
   "source": [
    "### 2. Declarations"
   ]
  },
  {
   "cell_type": "code",
   "execution_count": null,
   "metadata": {},
   "outputs": [],
   "source": [
    "# Input handling\n",
    "input_dir = Path(\"./sample_data\")\n",
    "set_list = [\n",
    "    \"naive\",\n",
    "    \"CARLA\",\n",
    "    \"esmini\"\n",
    "]\n",
    "\n",
    "# Output handling\n",
    "output_dir = Path(\"../output/latest\")\n",
    "output_dir.mkdir(exist_ok = True)\n",
    "\n",
    "# Georeference params\n",
    "georeference_string = \"EPSG:3857\"\n",
    "x_translation = 658761.0\n",
    "y_translation = 4542599.0\n",
    "\n",
    "# Scenario handling\n",
    "location_geotransformation = GeoTransformation(\n",
    "    georeference_string,\n",
    "    x_translation,\n",
    "    y_translation,\n",
    "    None,\n",
    "    None\n",
    ")\n",
    "scenario_location = Location(\n",
    "    11,\n",
    "    0.0,\n",
    "    0.0,\n",
    "    location_geotransformation,\n",
    "    None\n",
    ")"
   ]
  },
  {
   "cell_type": "markdown",
   "metadata": {},
   "source": [
    "### 3. Attempt conversion"
   ]
  },
  {
   "cell_type": "code",
   "execution_count": null,
   "metadata": {},
   "outputs": [
    {
     "name": "stdout",
     "output_type": "stream",
     "text": [
      "\n",
      "=============== Working on TIERIV_original ===============\n",
      "\n",
      "Converting sample_data/TIERIV_original/three_straight_lanes.xodr\n",
      "[debug] final osm_root num nodes: 15\n",
      "Quest complete\n",
      "\n",
      "=============== Working on esmini ===============\n",
      "\n",
      "Converting sample_data/esmini/curves_elevation.xodr\n",
      "[debug] final osm_root num nodes: 5540\n",
      "Quest complete\n",
      "Converting sample_data/esmini/curves.xodr\n",
      "[debug] final osm_root num nodes: 5540\n",
      "Quest complete\n",
      "Converting sample_data/esmini/two_plus_one.xodr\n"
     ]
    },
    {
     "name": "stderr",
     "output_type": "stream",
     "text": [
      "07-Apr-25 23:02:34 - WARNING - ConversionLanelet::lanelet_type: Unknown lane type: {<LaneletType.UNKNOWN: 'unknown'>}\n",
      "07-Apr-25 23:02:34 - WARNING - ConversionLanelet::lanelet_type: Unknown lane type: {<LaneletType.UNKNOWN: 'unknown'>}\n",
      "07-Apr-25 23:02:34 - WARNING - ConversionLanelet::lanelet_type: Unknown lane type: {<LaneletType.UNKNOWN: 'unknown'>}\n",
      "07-Apr-25 23:02:35 - WARNING - ConversionLanelet::lanelet_type: Unknown lane type: {<LaneletType.UNKNOWN: 'unknown'>}\n",
      "07-Apr-25 23:02:35 - WARNING - OpenDRIVE/traffic_signals.py: Unknown TrafficSignIDGermany of ID 1000003 of subtype -1!\n",
      "07-Apr-25 23:02:35 - WARNING - OpenDRIVE/traffic_signals.py: Unknown TrafficSignIDGermany of ID 294 of subtype -1!\n",
      "07-Apr-25 23:02:35 - WARNING - OpenDRIVE/traffic_signals.py: Unknown TrafficSignIDGermany of ID 1000003 of subtype -1!\n",
      "07-Apr-25 23:02:35 - WARNING - OpenDRIVE/traffic_signals.py: Unknown TrafficSignIDGermany of ID 294 of subtype -1!\n",
      "07-Apr-25 23:02:35 - WARNING - OpenDRIVE/traffic_signals.py: Unknown TrafficSignIDGermany of ID 1000003 of subtype -1!\n",
      "07-Apr-25 23:02:35 - WARNING - OpenDRIVE/traffic_signals.py: Unknown TrafficSignIDGermany of ID 294 of subtype -1!\n",
      "07-Apr-25 23:02:35 - WARNING - OpenDRIVE/traffic_signals.py: Unknown TrafficSignIDGermany of ID -1 of subtype -1!\n",
      "07-Apr-25 23:02:35 - WARNING - OpenDRIVE/traffic_signals.py: Unknown TrafficSignIDGermany of ID -1 of subtype -1!\n",
      "07-Apr-25 23:02:35 - WARNING - OpenDRIVE/traffic_signals.py: Unknown TrafficSignIDGermany of ID -1 of subtype -1!\n",
      "07-Apr-25 23:02:35 - WARNING - OpenDRIVE/traffic_signals.py: Unknown TrafficSignIDGermany of ID -1 of subtype -1!\n",
      "07-Apr-25 23:02:35 - WARNING - OpenDRIVE/traffic_signals.py: Unknown TrafficSignIDGermany of ID 1000003 of subtype -1!\n",
      "07-Apr-25 23:02:35 - WARNING - OpenDRIVE/traffic_signals.py: Unknown TrafficSignIDGermany of ID 294 of subtype -1!\n",
      "07-Apr-25 23:02:35 - WARNING - OpenDRIVE/traffic_signals.py: Unknown TrafficSignIDGermany of ID 1000003 of subtype -1!\n",
      "07-Apr-25 23:02:35 - WARNING - OpenDRIVE/traffic_signals.py: Unknown TrafficSignIDGermany of ID 294 of subtype -1!\n",
      "07-Apr-25 23:02:35 - WARNING - OpenDRIVE/traffic_signals.py: Unknown TrafficSignIDGermany of ID 1000003 of subtype -1!\n",
      "07-Apr-25 23:02:35 - WARNING - OpenDRIVE/traffic_signals.py: Unknown TrafficSignIDGermany of ID 294 of subtype -1!\n",
      "07-Apr-25 23:02:35 - WARNING - OpenDRIVE/traffic_signals.py: Unknown TrafficSignIDGermany of ID 1000003 of subtype -1!\n",
      "07-Apr-25 23:02:35 - WARNING - OpenDRIVE/traffic_signals.py: Unknown TrafficSignIDGermany of ID 294 of subtype -1!\n",
      "07-Apr-25 23:02:35 - WARNING - OpenDRIVE/traffic_signals.py: Unknown TrafficSignIDGermany of ID 1000003 of subtype -1!\n",
      "07-Apr-25 23:02:35 - WARNING - OpenDRIVE/traffic_signals.py: Unknown TrafficSignIDGermany of ID 294 of subtype -1!\n",
      "07-Apr-25 23:02:35 - WARNING - OpenDRIVE/traffic_signals.py: Unknown TrafficSignIDGermany of ID 1000003 of subtype -1!\n",
      "07-Apr-25 23:02:35 - WARNING - OpenDRIVE/traffic_signals.py: Unknown TrafficSignIDGermany of ID 294 of subtype -1!\n",
      "07-Apr-25 23:02:35 - WARNING - OpenDRIVE/traffic_signals.py: Unknown TrafficSignIDGermany of ID 1000003 of subtype -1!\n",
      "07-Apr-25 23:02:35 - WARNING - OpenDRIVE/traffic_signals.py: Unknown TrafficSignIDGermany of ID 294 of subtype -1!\n",
      "07-Apr-25 23:02:35 - WARNING - OpenDRIVE/traffic_signals.py: Unknown TrafficSignIDGermany of ID 1000003 of subtype -1!\n",
      "07-Apr-25 23:02:35 - WARNING - OpenDRIVE/traffic_signals.py: Unknown TrafficSignIDGermany of ID 294 of subtype -1!\n",
      "07-Apr-25 23:02:35 - WARNING - OpenDRIVE/traffic_signals.py: Unknown TrafficSignIDGermany of ID 1000003 of subtype -1!\n",
      "07-Apr-25 23:02:35 - WARNING - OpenDRIVE/traffic_signals.py: Unknown TrafficSignIDGermany of ID 294 of subtype -1!\n",
      "07-Apr-25 23:02:35 - WARNING - OpenDRIVE/traffic_signals.py: Unknown TrafficSignIDGermany of ID 1000003 of subtype -1!\n",
      "07-Apr-25 23:02:35 - WARNING - OpenDRIVE/traffic_signals.py: Unknown TrafficSignIDGermany of ID 294 of subtype -1!\n",
      "07-Apr-25 23:02:35 - WARNING - OpenDRIVE/traffic_signals.py: Unknown TrafficSignIDGermany of ID 1000003 of subtype -1!\n",
      "07-Apr-25 23:02:35 - WARNING - OpenDRIVE/traffic_signals.py: Unknown TrafficSignIDGermany of ID 294 of subtype -1!\n",
      "07-Apr-25 23:02:35 - WARNING - OpenDRIVE/traffic_signals.py: Unknown TrafficSignIDGermany of ID 1000003 of subtype -1!\n",
      "07-Apr-25 23:02:35 - WARNING - OpenDRIVE/traffic_signals.py: Unknown TrafficSignIDGermany of ID 294 of subtype -1!\n",
      "07-Apr-25 23:02:35 - WARNING - OpenDRIVE/traffic_signals.py: Unknown TrafficSignIDGermany of ID 1000003 of subtype -1!\n",
      "07-Apr-25 23:02:35 - WARNING - OpenDRIVE/traffic_signals.py: Unknown TrafficSignIDGermany of ID 294 of subtype -1!\n",
      "07-Apr-25 23:02:35 - WARNING - OpenDRIVE/traffic_signals.py: Unknown TrafficSignIDGermany of ID 1000003 of subtype -1!\n",
      "07-Apr-25 23:02:35 - WARNING - OpenDRIVE/traffic_signals.py: Unknown TrafficSignIDGermany of ID 294 of subtype -1!\n"
     ]
    },
    {
     "name": "stdout",
     "output_type": "stream",
     "text": [
      "[debug] final osm_root num nodes: 438\n",
      "Quest complete\n",
      "Converting sample_data/esmini/multi_intersections.xodr\n"
     ]
    },
    {
     "name": "stderr",
     "output_type": "stream",
     "text": [
      "07-Apr-25 23:02:38 - WARNING - ConversionLanelet::lanelet_type: Unknown lane type: {<LaneletType.UNKNOWN: 'unknown'>}\n",
      "07-Apr-25 23:02:38 - WARNING - ConversionLanelet::lanelet_type: Unknown lane type: {<LaneletType.UNKNOWN: 'unknown'>}\n",
      "/home/tranhuunhathuy/anaconda3/envs/llconv/lib/python3.9/site-packages/crdesigner/map_conversion/common/conversion_lanelet_network.py:942: UserWarning: For traffic light with ID 47 no referencing lanelet was found!\n",
      "  warnings.warn(\n",
      "/home/tranhuunhathuy/anaconda3/envs/llconv/lib/python3.9/site-packages/crdesigner/map_conversion/common/conversion_lanelet_network.py:942: UserWarning: For traffic light with ID 48 no referencing lanelet was found!\n",
      "  warnings.warn(\n",
      "/home/tranhuunhathuy/anaconda3/envs/llconv/lib/python3.9/site-packages/crdesigner/map_conversion/common/conversion_lanelet_network.py:942: UserWarning: For traffic light with ID 49 no referencing lanelet was found!\n",
      "  warnings.warn(\n",
      "/home/tranhuunhathuy/anaconda3/envs/llconv/lib/python3.9/site-packages/crdesigner/map_conversion/common/conversion_lanelet_network.py:942: UserWarning: For traffic light with ID 52 no referencing lanelet was found!\n",
      "  warnings.warn(\n",
      "/home/tranhuunhathuy/anaconda3/envs/llconv/lib/python3.9/site-packages/crdesigner/map_conversion/common/conversion_lanelet_network.py:942: UserWarning: For traffic light with ID 53 no referencing lanelet was found!\n",
      "  warnings.warn(\n",
      "/home/tranhuunhathuy/anaconda3/envs/llconv/lib/python3.9/site-packages/crdesigner/map_conversion/common/conversion_lanelet_network.py:942: UserWarning: For traffic light with ID 55 no referencing lanelet was found!\n",
      "  warnings.warn(\n",
      "/home/tranhuunhathuy/anaconda3/envs/llconv/lib/python3.9/site-packages/crdesigner/map_conversion/common/conversion_lanelet_network.py:942: UserWarning: For traffic light with ID 56 no referencing lanelet was found!\n",
      "  warnings.warn(\n",
      "07-Apr-25 23:02:38 - INFO - cr2lanelet::_append_from_sign: lanelet with yield sign has no\n",
      "07-Apr-25 23:02:38 - INFO - cr2lanelet::_append_from_sign: lanelet with yield sign has no\n",
      "07-Apr-25 23:02:38 - INFO - cr2lanelet::_append_from_sign: lanelet with yield sign has no\n",
      "07-Apr-25 23:02:38 - INFO - cr2lanelet::_append_from_sign: lanelet with yield sign has no\n",
      "07-Apr-25 23:02:38 - INFO - cr2lanelet::_append_from_sign: lanelet with yield sign has no\n",
      "07-Apr-25 23:02:38 - INFO - cr2lanelet::_append_from_sign: lanelet with yield sign has no\n",
      "07-Apr-25 23:02:38 - INFO - cr2lanelet::_append_from_sign: lanelet with yield sign has no\n"
     ]
    },
    {
     "name": "stdout",
     "output_type": "stream",
     "text": [
      "[debug] final osm_root num nodes: 9822\n",
      "Quest complete\n",
      "Converting sample_data/esmini/striaghtAndCurves.xodr\n",
      "[debug] final osm_root num nodes: 5540\n",
      "Quest complete\n",
      "Converting sample_data/esmini/e6mini-lht.xodr\n"
     ]
    },
    {
     "name": "stderr",
     "output_type": "stream",
     "text": [
      "/home/tranhuunhathuy/anaconda3/envs/llconv/lib/python3.9/site-packages/crdesigner/map_conversion/common/utils.py:74: UserWarning: geoidgrids removed from projection string\n",
      "  warnings.warn(\"geoidgrids removed from projection string\")\n",
      "07-Apr-25 23:02:42 - WARNING - Value guide-post is not a supported road object type!\n",
      "07-Apr-25 23:02:42 - WARNING - Value guide-post is not a supported road object type!\n"
     ]
    },
    {
     "name": "stdout",
     "output_type": "stream",
     "text": [
      "[debug] final osm_root num nodes: 42\n",
      "Quest complete\n",
      "Converting sample_data/esmini/straight_500m_signs.xodr\n",
      "Error: 'SWE'\n",
      "Converting sample_data/esmini/curve_r100.xodr\n",
      "[debug] final osm_root num nodes: 956\n",
      "Quest complete\n",
      "Converting sample_data/esmini/soderleden.xodr\n",
      "Error: int() argument must be a string, a bytes-like object or a number, not 'NoneType'\n",
      "Converting sample_data/esmini/straight_500m_roadmarks.xodr\n"
     ]
    },
    {
     "name": "stderr",
     "output_type": "stream",
     "text": [
      "/home/tranhuunhathuy/anaconda3/envs/llconv/lib/python3.9/site-packages/crdesigner/map_conversion/common/utils.py:74: UserWarning: geoidgrids removed from projection string\n",
      "  warnings.warn(\"geoidgrids removed from projection string\")\n",
      "/home/tranhuunhathuy/anaconda3/envs/llconv/lib/python3.9/site-packages/crdesigner/map_conversion/common/utils.py:74: UserWarning: geoidgrids removed from projection string\n",
      "  warnings.warn(\"geoidgrids removed from projection string\")\n",
      "07-Apr-25 23:02:43 - WARNING - Value rail-pole is not a supported road object type!\n",
      "07-Apr-25 23:02:43 - WARNING - Value rail-pole is not a supported road object type!\n",
      "07-Apr-25 23:02:43 - WARNING - Value guide-post is not a supported road object type!\n",
      "07-Apr-25 23:02:43 - WARNING - Value guide-post is not a supported road object type!\n"
     ]
    },
    {
     "name": "stdout",
     "output_type": "stream",
     "text": [
      "[debug] final osm_root num nodes: 11\n",
      "Quest complete\n",
      "Converting sample_data/esmini/e6mini.xodr\n",
      "[debug] final osm_root num nodes: 30\n",
      "Quest complete\n",
      "Converting sample_data/esmini/fabriksgatan.xodr\n",
      "[debug] final osm_root num nodes: 765\n",
      "Quest complete\n",
      "Converting sample_data/esmini/crest-curve.xodr\n",
      "[debug] final osm_root num nodes: 1490\n",
      "Quest complete\n",
      "Converting sample_data/esmini/jolengatan.xodr\n",
      "[debug] final osm_root num nodes: 494\n",
      "Quest complete\n",
      "Converting sample_data/esmini/straight_500m.xodr\n"
     ]
    },
    {
     "name": "stderr",
     "output_type": "stream",
     "text": [
      "/home/tranhuunhathuy/anaconda3/envs/llconv/lib/python3.9/site-packages/crdesigner/map_conversion/common/utils.py:74: UserWarning: geoidgrids removed from projection string\n",
      "  warnings.warn(\"geoidgrids removed from projection string\")\n"
     ]
    },
    {
     "name": "stdout",
     "output_type": "stream",
     "text": [
      "[debug] final osm_root num nodes: 11\n",
      "Quest complete\n"
     ]
    }
   ],
   "source": [
    "STRAIGHT_ANGLE_THRSH = 179.9            # Extremely strict angle threshold (trust me, 179 wasn't enough)\n",
    "MIN_SEGMENT_DIST = 3.0                  # Minimum segment length accepted\n",
    "\n",
    "for set_name in set_list:\n",
    "    print(f\"\\n=============== Working on {set_name} ===============\\n\")\n",
    "    this_set_input_path = input_dir / set_name\n",
    "    this_set_output_path = output_dir / set_name\n",
    "    if not (os.path.exists(this_set_output_path)):\n",
    "        os.makedirs(this_set_output_path)\n",
    "\n",
    "    for input_file in os.listdir(this_set_input_path):\n",
    "        input_file_path = this_set_input_path / input_file\n",
    "        try:\n",
    "            # Input handling\n",
    "            print(f\"Converting {input_file_path}\")\n",
    "\n",
    "            # Output handling\n",
    "            input_file_tail_trimmed = \".\".join(input_file.split(\".\")[ : -1])\n",
    "            output_filename = f\"converted_{input_file_tail_trimmed}.osm\"\n",
    "            output_path = this_set_output_path / output_filename\n",
    "\n",
    "            # Scenario initialization\n",
    "            scenario = opendrive_to_commonroad(input_file_path)\n",
    "            scenario.location = scenario_location\n",
    "            \n",
    "            # Conversion\n",
    "            if (scenario):\n",
    "                l2osm = CR2LaneletConverter(lanelet2_config)\n",
    "                osm = l2osm(scenario)\n",
    "\n",
    "                with open(f\"{output_preprocess_path}\", \"wb\") as file_out:\n",
    "                    file_out.write(etree.tostring(\n",
    "                        osm, \n",
    "                        xml_declaration = True, \n",
    "                        encoding = \"UTF-8\", \n",
    "                        pretty_print = True\n",
    "                    ))\n",
    "\n",
    "                # Here comes my postprocessing\n",
    "                downsamp_osm = postprocessDownsamplingOSM(\n",
    "                    osm, \n",
    "                    STRAIGHT_ANGLE_THRSH,\n",
    "                    MIN_SEGMENT_DIST\n",
    "                )\n",
    "\n",
    "                with open(output_path, \"wb\") as file_out:\n",
    "                    file_out.write(etree.tostring(\n",
    "                        downsamp_osm, \n",
    "                        xml_declaration = True, \n",
    "                        encoding = \"UTF-8\", \n",
    "                        pretty_print = True\n",
    "                    ))\n",
    "            \n",
    "            print(\"Quest complete\")\n",
    "\n",
    "        except Exception as e:\n",
    "            print(f\"Error: {e}\")\n",
    "            continue"
   ]
  }
 ],
 "metadata": {
  "kernelspec": {
   "display_name": "llconv",
   "language": "python",
   "name": "python3"
  },
  "language_info": {
   "codemirror_mode": {
    "name": "ipython",
    "version": 3
   },
   "file_extension": ".py",
   "mimetype": "text/x-python",
   "name": "python",
   "nbconvert_exporter": "python",
   "pygments_lexer": "ipython3",
   "version": "3.9.21"
  }
 },
 "nbformat": 4,
 "nbformat_minor": 2
}
