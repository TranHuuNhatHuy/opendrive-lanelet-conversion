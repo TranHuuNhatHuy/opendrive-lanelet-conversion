{
 "cells": [
  {
   "cell_type": "markdown",
   "metadata": {},
   "source": [
    "# OpenDRIVE - Lanelet2 conversion"
   ]
  },
  {
   "cell_type": "markdown",
   "metadata": {},
   "source": [
    "### 1. Imports"
   ]
  },
  {
   "cell_type": "code",
   "execution_count": 1,
   "metadata": {},
   "outputs": [],
   "source": [
    "import os\n",
    "import shutil\n",
    "from lxml import etree\n",
    "from crdesigner.common.config.lanelet2_config import lanelet2_config\n",
    "from crdesigner.map_conversion.lanelet2.cr2lanelet import CR2LaneletConverter\n",
    "from commonroad.scenario.scenario import Location, GeoTransformation\n",
    "from crdesigner.map_conversion.map_conversion_interface import opendrive_to_commonroad\n",
    "from pathlib import Path"
   ]
  },
  {
   "cell_type": "markdown",
   "metadata": {},
   "source": [
    "### 2. Declarations"
   ]
  },
  {
   "cell_type": "code",
   "execution_count": null,
   "metadata": {},
   "outputs": [],
   "source": [
    "# Input handling\n",
    "input_dir = Path(\"./sample_data\")\n",
    "set_list = [\n",
    "    \"naive\",\n",
    "    \"CARLA\",\n",
    "    \"esmini\"\n",
    "]\n",
    "\n",
    "# Output handling\n",
    "output_dir = Path(\"./output/old\")\n",
    "if output_dir.exists():\n",
    "    print(f\"Output dir {output_dir} exists. Purging...\")\n",
    "    shutil.rmtree(output_dir)\n",
    "os.makedirs(output_dir, exist_ok = True)\n",
    "\n",
    "# Georeference params\n",
    "georeference_string = \"EPSG:3857\"\n",
    "x_translation = 0.0 # 658761.0\n",
    "y_translation = 0.0 # 4542599.0\n",
    "\n",
    "# Scenario handling\n",
    "location_geotransformation = GeoTransformation(\n",
    "    georeference_string,\n",
    "    x_translation = x_translation,\n",
    "    y_translation = y_translation,\n",
    "    z_rotation = None,\n",
    "    scaling = None\n",
    ")\n",
    "scenario_location = Location(\n",
    "    geo_name_id = 11,\n",
    "    gps_latitude = 0.0,\n",
    "    gps_longitude = 0.0,\n",
    "    geo_transformation = location_geotransformation,\n",
    "    environment = None\n",
    ")"
   ]
  },
  {
   "cell_type": "markdown",
   "metadata": {},
   "source": [
    "### 3. Attempt conversion"
   ]
  },
  {
   "cell_type": "code",
   "execution_count": null,
   "metadata": {},
   "outputs": [],
   "source": [
    "for set_name in set_list:\n",
    "    print(f\"\\n=============== Working on {set_name} ===============\\n\")\n",
    "    this_set_input_path = input_dir / set_name\n",
    "    this_set_output_path = output_dir / set_name\n",
    "    if not (os.path.exists(this_set_output_path)):\n",
    "        os.makedirs(this_set_output_path)\n",
    "\n",
    "    for input_file in os.listdir(this_set_input_path):\n",
    "        input_file_path = this_set_input_path / input_file\n",
    "        try:\n",
    "            # Input handling\n",
    "            print(f\"Converting {input_file_path}\")\n",
    "\n",
    "            # Output handling\n",
    "            input_file_tail_trimmed = \".\".join(input_file.split(\".\")[ : -1])\n",
    "            output_filename = f\"converted_{input_file_tail_trimmed}.osm\"\n",
    "            output_path = this_set_output_path / output_filename\n",
    "\n",
    "            # Scenario initialization\n",
    "            scenario = opendrive_to_commonroad(input_file_path)\n",
    "            scenario.location = scenario_location\n",
    "            \n",
    "            # Conversion\n",
    "            if (scenario):\n",
    "                l2osm = CR2LaneletConverter(lanelet2_config)\n",
    "                osm = l2osm(scenario)\n",
    "\n",
    "                with open(output_path, \"wb\") as file_out:\n",
    "                    file_out.write(etree.tostring(\n",
    "                        osm, \n",
    "                        xml_declaration = True, \n",
    "                        encoding = \"UTF-8\", \n",
    "                        pretty_print = True\n",
    "                    ))\n",
    "\n",
    "        except Exception as e:\n",
    "            print(f\"Error: {e}\")\n",
    "            continue"
   ]
  }
 ],
 "metadata": {
  "kernelspec": {
   "display_name": "llconv",
   "language": "python",
   "name": "python3"
  },
  "language_info": {
   "codemirror_mode": {
    "name": "ipython",
    "version": 3
   },
   "file_extension": ".py",
   "mimetype": "text/x-python",
   "name": "python",
   "nbconvert_exporter": "python",
   "pygments_lexer": "ipython3",
   "version": "3.9.21"
  }
 },
 "nbformat": 4,
 "nbformat_minor": 2
}
